{
 "cells": [
  {
   "cell_type": "markdown",
   "metadata": {},
   "source": [
    "Esta é uma script em jupyter para fazer pequenas funções e depois passar para a script em python."
   ]
  },
  {
   "cell_type": "code",
   "execution_count": 83,
   "metadata": {},
   "outputs": [],
   "source": [
    "import os\n",
    "import subprocess\n",
    "from Bio import SeqIO, SeqFeature, Entrez, AlignIO, ExPASy, SwissProt\n",
    "from Bio.Seq import Seq\n",
    "from Bio.SeqRecord import SeqRecord\n",
    "from Bio.Blast import NCBIXML, NCBIWWW\n",
    "from Bio.Align.Applications import ClustalwCommandline\n",
    "from Bio.Phylo.TreeConstruction import DistanceTreeConstructor, DistanceCalculator\n",
    "from Bio import Phylo"
   ]
  },
  {
   "cell_type": "markdown",
   "metadata": {},
   "source": [
    "### Análise da sequência e das features presentes no NCBI"
   ]
  },
  {
   "cell_type": "markdown",
   "metadata": {},
   "source": [
    "Funtion to get gene genbank file"
   ]
  },
  {
   "cell_type": "code",
   "execution_count": 29,
   "metadata": {},
   "outputs": [],
   "source": [
    "def get_seq(gene_id, filename, email=\"...@gmail.com\", db=\"nucleotide\",rettype=\"gb\", output_dir=\"output\"):\n",
    "    \"\"\"\n",
    "    Fetches a sequence from NCBI and saves it to a file in the specified output directory.\n",
    "    \n",
    "    Args:\n",
    "        gene_id (str): NCBI Gene ID.\n",
    "        email (str): User's email for NCBI access.\n",
    "        filename (str): File name to save the sequence.\n",
    "        output_dir (str): Directory where the file will be saved.\n",
    "    \"\"\"\n",
    "    Entrez.email = email\n",
    "    os.makedirs(output_dir, exist_ok=True)  # Create the directory if it doesn't exist\n",
    "    output_path = os.path.join(output_dir, filename)  # Full path to the output file\n",
    "\n",
    "    try:\n",
    "        print(f\"Fetching data for gene ID: {gene_id}...\")\n",
    "        handle = Entrez.efetch(db=db, id=gene_id, rettype=rettype, retmode=\"text\")\n",
    "        record = SeqIO.read(handle, \"genbank\")\n",
    "        handle.close()\n",
    "        print(\"Saving the sequence to file...\")\n",
    "        with open(output_path, \"w\") as output_file:  # Use output_path here\n",
    "            SeqIO.write(record, output_file, \"genbank\")\n",
    "        print(f\"Sequence saved successfully to {output_path}.\")\n",
    "        \n",
    "    except Exception as e:\n",
    "        print(f\"An error occurred: {e}\")"
   ]
  },
  {
   "cell_type": "code",
   "execution_count": 35,
   "metadata": {},
   "outputs": [
    {
     "name": "stdout",
     "output_type": "stream",
     "text": [
      "Fetching data for gene ID: U10926.1...\n",
      "An error occurred: No records found in handle\n"
     ]
    }
   ],
   "source": [
    "get_seq(\"U10926.1\", filename = \"comS.gb\", output_dir=\"genes\")\n"
   ]
  },
  {
   "cell_type": "markdown",
   "metadata": {},
   "source": [
    "Funtion to extract cds sequence"
   ]
  },
  {
   "cell_type": "code",
   "execution_count": 48,
   "metadata": {},
   "outputs": [],
   "source": [
    "def extract_cds_from_genbank(genbank_file, filename=\"cds_sequences.fasta\", output_dir=\"genes_cds\"):\n",
    "    \"\"\"\n",
    "    Extracts CDS sequences from a GenBank file and saves them as FASTA.\n",
    "    \n",
    "    Args:\n",
    "        genbank_file (str): Path to the GenBank file.\n",
    "        output_file (str): Path to save the extracted CDS sequences in FASTA format.\n",
    "    \n",
    "    Returns:\n",
    "        None\n",
    "    \"\"\"\n",
    "    os.makedirs(output_dir, exist_ok=True)  # Create the directory if it doesn't exist\n",
    "    output_path = os.path.join(output_dir, filename)  # Full path to the output file\n",
    "    \n",
    "    cds_count = 0\n",
    "    with open(output_path, \"w\") as fasta_output:\n",
    "        for record in SeqIO.parse(genbank_file, \"genbank\"):\n",
    "            for feature in record.features:\n",
    "                if feature.type == \"CDS\":\n",
    "                    # Extract the CDS sequence\n",
    "                    cds_seq = feature.extract(record.seq)\n",
    "                    \n",
    "                    # Get the gene or protein ID from qualifiers\n",
    "                    gene_id = feature.qualifiers.get(\"gene\", [\"Unknown_gene\"])[0]\n",
    "                    protein_id = feature.qualifiers.get(\"protein_id\", [\"Unknown_protein\"])[0]\n",
    "                    \n",
    "                    # Write the CDS to the FASTA file\n",
    "                    fasta_output.write(f\">{gene_id}|{protein_id}\\n{cds_seq}\\n\")\n",
    "                    cds_count += 1\n",
    "    \n",
    "    print(f\"{cds_count} CDS sequences extracted and saved to {filename}.\")"
   ]
  },
  {
   "cell_type": "code",
   "execution_count": 52,
   "metadata": {},
   "outputs": [
    {
     "name": "stdout",
     "output_type": "stream",
     "text": [
      "1 CDS sequences extracted and saved to comS_cds.fasta.\n"
     ]
    }
   ],
   "source": [
    "extract_cds_from_genbank(\"genes/comS.gb\", \"comS_cds.fasta\")"
   ]
  },
  {
   "cell_type": "markdown",
   "metadata": {},
   "source": [
    "Function to get the annotation from genbank file"
   ]
  },
  {
   "cell_type": "code",
   "execution_count": 50,
   "metadata": {},
   "outputs": [],
   "source": [
    "def extract_annotations(filename):\n",
    "    \"\"\"\n",
    "    Extracts annotations from a GenBank file.\n",
    "    \n",
    "    Args:\n",
    "        filename (str): Path to the GenBank file.\n",
    "    \"\"\"\n",
    "    try:\n",
    "        record = SeqIO.read(filename, \"genbank\")\n",
    "        print(f\"Gene Description: {record.description}\")\n",
    "        print(f\"Organism: {record.annotations.get('organism', 'Unknown')}\")\n",
    "        print(f\"Annotations: {record.annotations}\")\n",
    "\n",
    "    except Exception as e:\n",
    "        print(f\"An error occurred: {e}\")\n"
   ]
  },
  {
   "cell_type": "code",
   "execution_count": 51,
   "metadata": {},
   "outputs": [
    {
     "name": "stdout",
     "output_type": "stream",
     "text": [
      "Gene Description: Bacillus subtilis 168 genetic competence regulation (comS) gene, complete cds\n",
      "Organism: Bacillus subtilis subsp. subtilis str. 168\n",
      "Annotations: {'molecule_type': 'DNA', 'topology': 'linear', 'data_file_division': 'BCT', 'date': '26-JAN-1995', 'accessions': ['U10926'], 'sequence_version': 1, 'keywords': [''], 'source': 'Bacillus subtilis subsp. subtilis str. 168', 'organism': 'Bacillus subtilis subsp. subtilis str. 168', 'taxonomy': ['Bacteria', 'Bacillati', 'Bacillota', 'Bacilli', 'Bacillales', 'Bacillaceae', 'Bacillus'], 'references': [Reference(title='Identification of comS, a gene of the srfA operon that regulates the establishment of genetic competence in Bacillus subtilis', ...), Reference(title=\"Nucleotide sequence of 5' portion of srfA that contains the region required for competence establishment in Bacillus subtilus\", ...), Reference(title='Direct Submission', ...)]}\n"
     ]
    }
   ],
   "source": [
    "extract_annotations(\"genes/comS.gb\")"
   ]
  },
  {
   "cell_type": "markdown",
   "metadata": {},
   "source": [
    "Funtion to analyse features and qualifiers"
   ]
  },
  {
   "cell_type": "code",
   "execution_count": 53,
   "metadata": {},
   "outputs": [],
   "source": [
    "def analyze_features(filename):\n",
    "    \"\"\"\n",
    "    Analyzes features and qualifiers in a GenBank file.\n",
    "    \n",
    "    Args:\n",
    "        filename (str): Path to the GenBank file.\n",
    "    \"\"\"\n",
    "    try:\n",
    "        record = SeqIO.read(f\"genes/{filename}\", \"genbank\")\n",
    "        print(f\"Number of Features: {len(record.features)}\")\n",
    "        for feature in record.features:\n",
    "            print(f\"Type: {feature.type}\")\n",
    "            print(f\"Location: {feature.location}\")\n",
    "            print(f\"Qualifiers: {feature.qualifiers}\")\n",
    "            print(\"-\" * 50)\n",
    "            \n",
    "    except Exception as e:\n",
    "        print(f\"An error occurred: {e}\")\n"
   ]
  },
  {
   "cell_type": "code",
   "execution_count": 54,
   "metadata": {},
   "outputs": [
    {
     "name": "stdout",
     "output_type": "stream",
     "text": [
      "Number of Features: 4\n",
      "Type: source\n",
      "Location: [0:570](+)\n",
      "Qualifiers: {'organism': ['Bacillus subtilis subsp. subtilis str. 168'], 'mol_type': ['genomic DNA'], 'strain': ['168'], 'sub_species': ['subtilis'], 'type_material': ['type strain of Bacillus subtilis'], 'db_xref': ['taxon:224308'], 'map': ['30 degrees'], 'note': ['sequence similar to srfA2 gene, GenBank Accession Number X70356, and srfAB gene, GenBank Accession Number D13262']}\n",
      "--------------------------------------------------\n",
      "Type: regulatory\n",
      "Location: [188:189](+)\n",
      "Qualifiers: {'regulatory_class': ['ribosome_binding_site']}\n",
      "--------------------------------------------------\n",
      "Type: gene\n",
      "Location: [210:351](+)\n",
      "Qualifiers: {'gene': ['comS']}\n",
      "--------------------------------------------------\n",
      "Type: CDS\n",
      "Location: [210:351](+)\n",
      "Qualifiers: {'gene': ['comS'], 'function': ['regulation of genetic competence'], 'experiment': ['experimental evidence, no additional details recorded'], 'codon_start': ['1'], 'transl_table': ['11'], 'organism': ['Bacillus subtilis'], 'product': ['ComS'], 'protein_id': ['AAA61567.1'], 'translation': ['MNRSGKHLISSIILYPRPSGECISSISLDKQTQATTSPLYFCWREK']}\n",
      "--------------------------------------------------\n"
     ]
    }
   ],
   "source": [
    "analyze_features(\"comS.gb\")"
   ]
  },
  {
   "cell_type": "markdown",
   "metadata": {},
   "source": [
    "Funtion to extract external references"
   ]
  },
  {
   "cell_type": "code",
   "execution_count": 55,
   "metadata": {},
   "outputs": [],
   "source": [
    "def extract_external_references(filename):\n",
    "    \"\"\"\n",
    "    Extracts external database references from a GenBank file.\n",
    "    \n",
    "    Args:\n",
    "        filename (str): Path to the GenBank file.\n",
    "    \"\"\"\n",
    "    try:\n",
    "        record = SeqIO.read(filename, \"genbank\")\n",
    "        external_refs = []\n",
    "\n",
    "        for feature in record.features:\n",
    "            if \"db_xref\" in feature.qualifiers:\n",
    "                external_refs.extend(feature.qualifiers[\"db_xref\"])\n",
    "        print(\"External References:\")\n",
    "\n",
    "        for ref in set(external_refs):\n",
    "            print(ref)\n",
    "            \n",
    "    except Exception as e:\n",
    "        print(f\"An error occurred: {e}\")\n",
    "\n"
   ]
  },
  {
   "cell_type": "code",
   "execution_count": 56,
   "metadata": {},
   "outputs": [
    {
     "name": "stdout",
     "output_type": "stream",
     "text": [
      "External References:\n",
      "taxon:224308\n"
     ]
    }
   ],
   "source": [
    "extract_external_references(\"genes/comS.gb\")"
   ]
  },
  {
   "cell_type": "markdown",
   "metadata": {},
   "source": [
    "### Análise de homologias por BLAST"
   ]
  },
  {
   "cell_type": "markdown",
   "metadata": {},
   "source": [
    "Função para fazer um NCBI blast apartir de um file (pode-se escolher o tipo de blast, database e outros parâmetros)"
   ]
  },
  {
   "cell_type": "code",
   "execution_count": 63,
   "metadata": {},
   "outputs": [],
   "source": [
    "def blast(file_name, file_format = \"fasta\", program = \"blastn\", database = \"nt\", e_value = 0.05, hitlist_size = 100):\n",
    "    \"\"\"\n",
    "    Realiza o BLAST de uma sequência contida em um arquivo.\n",
    "    \n",
    "    Parameters:\n",
    "        file_name (str): Nome do arquivo contendo a sequência.\n",
    "        file_format (str): Formato do arquivo (padrão: 'fasta').\n",
    "        program (str): Programa BLAST a ser usado (padrão: 'blastn').\n",
    "        database (str): Banco de dados para busca (padrão: 'nt').\n",
    "        e_value (float): Limite de valor E para busca (padrão: 0.05).\n",
    "        hitlist_size (int): Número de hits a serem retornados (padrão: 50).\n",
    "    \n",
    "    Returns:\n",
    "        Um handle com os resultados do BLAST, ou None em caso de erro.\n",
    "    \"\"\"\n",
    "    \n",
    "    try:\n",
    "        #lê o arquivo\n",
    "        record = SeqIO.read(open(file_name), format = file_format)\n",
    "\n",
    "        #Começa o blast remoto\n",
    "        print(\"BLASTing...\")\n",
    "        result_handle = NCBIWWW.qblast(program, database, record.format(\"fasta\"), expect = e_value, hitlist_size = hitlist_size)\n",
    "\n",
    "        #returns result handle\n",
    "        print(\"BLAST concluído com sucesso.\")\n",
    "        return result_handle\n",
    "    \n",
    "    except Exception as e:\n",
    "        print(f\"Erro ao executar o BLAST: {e}\")\n",
    "        return None"
   ]
  },
  {
   "cell_type": "markdown",
   "metadata": {},
   "source": [
    "Função que utiliza função blast, mas guardar o output num file."
   ]
  },
  {
   "cell_type": "code",
   "execution_count": 62,
   "metadata": {},
   "outputs": [],
   "source": [
    "def get_blast(file_name, output_name = \"blast_result\", output_dir=\"blast_output\", file_format = \"fasta\", program = \"blastn\", database = \"nt\", e_value = 0.01, hitlist_size = 100):\n",
    "    \"\"\"\n",
    "    Realiza o BLAST usando a função `blast` e salva os resultados em um arquivo.\n",
    "    \n",
    "    Parameters:\n",
    "        file_name (str): Nome do arquivo contendo a sequência.\n",
    "        output_name (str): Nome do arquivo para salvar os resultados.\n",
    "        Outros parâmetros são os mesmos da função `blast`.\n",
    "    \"\"\"\n",
    "\n",
    "    os.makedirs(output_dir, exist_ok=True)  # Create the directory if it doesn't exist\n",
    "    output_path = os.path.join(output_dir, output_name)  # Full path to the output file\n",
    "\n",
    "    result_handle = blast(file_name, file_format, program, database, e_value, hitlist_size)\n",
    "\n",
    "    if result_handle is not None:\n",
    "        try:\n",
    "            # Salva os resultados em um arquivo XML\n",
    "            with open(f\"{output_path}.xml\", \"w\") as save_file:\n",
    "                save_file.write(result_handle.read())\n",
    "                print(f\"Resultados salvos em {output_name}.xml.\")\n",
    "\n",
    "        except Exception as e:\n",
    "            print(f\"Erro ao salvar os resultados: {e}\")\n",
    "\n",
    "        finally:\n",
    "            result_handle.close()\n",
    "    "
   ]
  },
  {
   "cell_type": "markdown",
   "metadata": {},
   "source": [
    "Teste da função *get_blast* "
   ]
  },
  {
   "cell_type": "code",
   "execution_count": 64,
   "metadata": {},
   "outputs": [
    {
     "name": "stdout",
     "output_type": "stream",
     "text": [
      "BLASTing...\n",
      "BLAST concluído com sucesso.\n",
      "Resultados salvos em comS_cds.xml.\n"
     ]
    }
   ],
   "source": [
    "get_blast(\"genes_cds/comS_cds.fasta\", output_name =\"comS_cds\", hitlist_size=20000)"
   ]
  },
  {
   "cell_type": "markdown",
   "metadata": {},
   "source": [
    "Function to parse a blast result"
   ]
  },
  {
   "cell_type": "code",
   "execution_count": 65,
   "metadata": {},
   "outputs": [],
   "source": [
    "def parse_blast_results(file_name, exclude=None, e_value_thresh=0.05, identity_thresh=90):\n",
    "    \"\"\"\n",
    "    Parses BLAST results and extracts significant hits, excluding specific species or TaxIDs.\n",
    "    \n",
    "    Args:\n",
    "        file_name (str): Path to the BLAST result file in XML format.\n",
    "        exclude_taxid (int or None): TaxID of the species to exclude.\n",
    "        exclude_species (str or None): Species name to exclude (e.g., \"Bacillus subtilis\").\n",
    "        e_value_thresh (float): Threshold for E-value significance.\n",
    "        identity_thresh (float): Minimum percentage identity for significant hits.\n",
    "    \n",
    "    Returns:\n",
    "        list: A list of dictionaries containing significant hit information.\n",
    "    \"\"\"\n",
    "    from Bio.Blast import NCBIXML\n",
    "\n",
    "    with open(file_name) as result_handle:\n",
    "        blast_record = NCBIXML.read(result_handle)\n",
    "    \n",
    "    significant_hits = []\n",
    "    for alignment in blast_record.alignments:\n",
    "        EXC = False\n",
    "        if exclude:\n",
    "            for _ in exclude:\n",
    "                if _.lower() in alignment.title.lower():\n",
    "                    EXC = True\n",
    "                    break  # Exit the loop once a match is found\n",
    "        \n",
    "        if not EXC:\n",
    "            for hsp in alignment.hsps:\n",
    "                if hsp.expect < e_value_thresh and (hsp.identities / hsp.align_length) * 100 > identity_thresh:\n",
    "                    hit_info = {\n",
    "                        \"title\": alignment.title,\n",
    "                        \"length\": alignment.length,\n",
    "                        \"e_value\": hsp.expect,\n",
    "                        \"identity\": (hsp.identities / hsp.align_length) * 100,\n",
    "                        \"alignment_length\": hsp.align_length\n",
    "                    }\n",
    "                    significant_hits.append(hit_info)\n",
    "                    \n",
    "    \n",
    "    return significant_hits"
   ]
  },
  {
   "cell_type": "code",
   "execution_count": 67,
   "metadata": {},
   "outputs": [
    {
     "data": {
      "text/plain": [
       "[{'title': 'gi|1257575185|dbj|LC171348.1| Bacillus sp. FW1 genes for pyrene metabolism, contig_7',\n",
       "  'length': 455392,\n",
       "  'e_value': 5.1292e-61,\n",
       "  'identity': 98.58156028368793,\n",
       "  'alignment_length': 141},\n",
       " {'title': 'gi|1757450143|gb|MK570508.1| Bacillus amyloliquefaciens strain TSBSO3.8 surfactin gene region',\n",
       "  'length': 65411,\n",
       "  'e_value': 7.136e-34,\n",
       "  'identity': 84.39716312056737,\n",
       "  'alignment_length': 141},\n",
       " {'title': 'gi|1757450197|gb|MK570509.1| Bacillus amyloliquefaciens strain H2O-1 surfactin gene region',\n",
       "  'length': 65415,\n",
       "  'e_value': 7.136e-34,\n",
       "  'identity': 84.39716312056737,\n",
       "  'alignment_length': 141},\n",
       " {'title': 'gi|2784321086|gb|CP165606.1| Bacillus velezensis strain BP1 plasmid unnamed',\n",
       "  'length': 4056860,\n",
       "  'e_value': 3.0343e-32,\n",
       "  'identity': 83.68794326241135,\n",
       "  'alignment_length': 141},\n",
       " {'title': 'gi|42820782|emb|AJ575642.1| Bacillus amyloliquefaciens yciC gene, yx01 gene, yckc gene, yckD gene, yckE gene, nin gene, nuc gene, hxlB gene, hxlA gene, hxlR gene, xy02 gene, srfAA gene, srfAB gene, comS gene, srfAC gene, srfAD gene, aat gene, ycxc gene, ycxD gene, sfp gene, yczE gene, yckI gene and yckJ gene',\n",
       "  'length': 41884,\n",
       "  'e_value': 3.0343e-32,\n",
       "  'identity': 83.68794326241135,\n",
       "  'alignment_length': 141},\n",
       " {'title': 'gi|3046719|emb|AJ005061.1| Bacillus licheniformis BNP29 DNA for lichenysin A synthetase operon',\n",
       "  'length': 32386,\n",
       "  'e_value': 1.5732e-10,\n",
       "  'identity': 75.92592592592592,\n",
       "  'alignment_length': 108}]"
      ]
     },
     "execution_count": 67,
     "metadata": {},
     "output_type": "execute_result"
    }
   ],
   "source": [
    "parse_blast_results(\"blast_output/comS_cds.xml\", exclude=[\"subtilis\",\"chromosome\",\"complete\", \"genome\"], e_value_thresh=0.05, identity_thresh=50)"
   ]
  },
  {
   "cell_type": "markdown",
   "metadata": {},
   "source": [
    "### Alinhamento múltiplo e filogenia"
   ]
  },
  {
   "cell_type": "markdown",
   "metadata": {},
   "source": [
    "Função de extract de sequências"
   ]
  },
  {
   "cell_type": "code",
   "execution_count": 69,
   "metadata": {},
   "outputs": [],
   "source": [
    "def extract_sequences_from_blast(file_name, query_fasta, exclude=None, e_value_thresh=0.05, identity_thresh=90, n_seq=20):\n",
    "    \"\"\"\n",
    "    Extracts sequences from BLAST results for alignment, using a query FASTA file.\n",
    "    \n",
    "    Args:\n",
    "        file_name (str): Path to the BLAST XML result file.\n",
    "        query_fasta (str): Path to the query sequence FASTA file.\n",
    "        exclude (list): List of species or keywords to exclude.\n",
    "        e_value_thresh (float): Threshold for E-value significance.\n",
    "        identity_thresh (float): Minimum percentage identity for significant hits.\n",
    "        n_seq (int): Maximum number of sequences to extract.\n",
    "    \n",
    "    Returns:\n",
    "        dict: Dictionary with sequence titles as keys and sequences as values, including the query sequence.\n",
    "    \"\"\"\n",
    "    # Read the query sequence from the FASTA file\n",
    "    query_sequence = None\n",
    "    with open(query_fasta, \"r\") as fasta_handle:\n",
    "        query_record = SeqIO.read(fasta_handle, \"fasta\")\n",
    "        query_sequence = str(query_record.seq)\n",
    "    \n",
    "    if not query_sequence:\n",
    "        raise ValueError(\"Query sequence could not be read from the FASTA file.\")\n",
    "    \n",
    "    # Initialize the dictionary with the query sequence\n",
    "    sequences = {\"Query\": query_sequence}\n",
    "\n",
    "    # Parse the BLAST XML file\n",
    "    with open(file_name) as result_handle:\n",
    "        blast_record = NCBIXML.read(result_handle)\n",
    "\n",
    "    for alignment in blast_record.alignments:\n",
    "        # Check exclusion criteria\n",
    "        if exclude and any(term.lower() in alignment.title.lower() for term in exclude):\n",
    "            continue  # Skip this alignment if it matches exclusion criteria\n",
    "        \n",
    "        for hsp in alignment.hsps:\n",
    "            # Check E-value and identity thresholds\n",
    "            if hsp.expect < e_value_thresh and (hsp.identities / hsp.align_length) * 100 > identity_thresh:\n",
    "                sequences[alignment.title] = hsp.sbjct  # Add the sequence\n",
    "                if len(sequences) >= n_seq:  # Stop if desired number of sequences is reached\n",
    "                    return sequences\n",
    "    \n",
    "    return sequences"
   ]
  },
  {
   "cell_type": "code",
   "execution_count": 72,
   "metadata": {},
   "outputs": [],
   "source": [
    "sequences=extract_sequences_from_blast(\"blast_output/comS_cds.xml\", query_fasta=\"genes_cds/comS_cds.fasta\",\n",
    "                                        exclude=[\"subtilis\",\"chromosome\",\"complete\", \"genome\"], e_value_thresh=0.05, identity_thresh=50)"
   ]
  },
  {
   "cell_type": "code",
   "execution_count": 101,
   "metadata": {},
   "outputs": [],
   "source": [
    "def save_to_fasta(sequences, output_file=\"sequences.fasta\",output_dir=\"homologs\"):\n",
    "    \"\"\"\n",
    "    Saves sequences to a FASTA file.\n",
    "    \n",
    "    Args:\n",
    "        sequences (dict): Dictionary of sequences with titles as keys.\n",
    "        output_file (str): Name of the FASTA file.\n",
    "    \"\"\"\n",
    "    os.makedirs(output_dir, exist_ok=True)  # Create the directory if it doesn't exist\n",
    "    output_path = os.path.join(output_dir, output_file)  # Full path to the output file\n",
    "\n",
    "    records = [SeqRecord(Seq(seq), id=title, description=\"\") for title, seq in sequences.items()]\n",
    "    SeqIO.write(records, output_path, \"fasta\")\n",
    "    print(f\"Sequences saved to {output_path}.\")\n",
    "\n"
   ]
  },
  {
   "cell_type": "code",
   "execution_count": 102,
   "metadata": {},
   "outputs": [
    {
     "name": "stdout",
     "output_type": "stream",
     "text": [
      "Sequences saved to homologs\\comS_homologs.fasta.\n"
     ]
    }
   ],
   "source": [
    "# Example Usage\n",
    "save_to_fasta(sequences, \"comS_homologs.fasta\")"
   ]
  },
  {
   "cell_type": "code",
   "execution_count": 85,
   "metadata": {},
   "outputs": [],
   "source": [
    "def run_clustalO(input_file, output_file=\"aligned_sequences.aln\", output_dir=\"clustal_output\"):\n",
    "    \"\"\"\n",
    "    Runs Clustal Omega for multiple sequence alignment.\n",
    "    \n",
    "    Args:\n",
    "        input_file (str): Path to the input FASTA file.\n",
    "        output_file (str): Name of the output alignment file.\n",
    "        output_dir (str): Directory to save the alignment result.\n",
    "    \n",
    "    Returns:\n",
    "        str: Full path to the output alignment file.\n",
    "    \"\"\"\n",
    "    os.makedirs(output_dir, exist_ok=True)  # Create the directory if it doesn't exist\n",
    "    output_path = os.path.join(output_dir, output_file)  # Full path to the output file\n",
    "\n",
    "    clustalo_exe = \"clustal-omega-1.2.2-win64\\\\clustalo\"  # Path to Clustal Omega executable\n",
    "\n",
    "    # Command to run Clustal Omega\n",
    "    command = [\n",
    "        clustalo_exe,\n",
    "        \"--infile\", input_file,\n",
    "        \"--outfile\", output_path,\n",
    "        \"--outfmt\", \"clu\",  # Output format: Clustal\n",
    "        \"--force\"  # Overwrite existing files if necessary\n",
    "    ]\n",
    "\n",
    "    try:\n",
    "        # Run the command\n",
    "        result = subprocess.run(command, capture_output=True, text=True, check=True)\n",
    "        print(\"Clustal Omega alignment completed successfully.\")\n",
    "        print(result.stdout)\n",
    "        return output_path\n",
    "    except subprocess.CalledProcessError as e:\n",
    "        print(\"Error during Clustal Omega execution:\")\n",
    "        print(e.stderr)\n",
    "        raise\n",
    "\n"
   ]
  },
  {
   "cell_type": "code",
   "execution_count": 87,
   "metadata": {},
   "outputs": [
    {
     "name": "stdout",
     "output_type": "stream",
     "text": [
      "Clustal Omega alignment completed successfully.\n",
      "\n"
     ]
    }
   ],
   "source": [
    "aligned_file = run_clustalO(input_file=\"comS_homologs.fasta\", output_file=\"comS.aln\", output_dir=\"clustal_output\")\n"
   ]
  },
  {
   "cell_type": "markdown",
   "metadata": {},
   "source": [
    "Função para costrução de árvores apartir do output do clustalOmega"
   ]
  },
  {
   "cell_type": "code",
   "execution_count": 94,
   "metadata": {},
   "outputs": [],
   "source": [
    "def build_trees(file_name, file_type, matrix=\"blosum62\", output_dir=\"tree_output\"):\n",
    "    \"\"\"\n",
    "    Builds phylogenetic trees (UPGMA and NJ) from a sequence alignment file.\n",
    "    \n",
    "    Args:\n",
    "        file_name (str): Path to the input alignment file.\n",
    "        file_type (str): Format of the input alignment file (e.g., \"clustal\", \"fasta\").\n",
    "        matrix (str): Scoring matrix for distance calculation (default: \"blosum62\").\n",
    "        output_dir (str): Directory to save intermediate files and outputs (default: \"tree_output\").\n",
    "    \n",
    "    Returns:\n",
    "        None: Displays the trees as ASCII diagrams in the console.\n",
    "    \"\"\"\n",
    "    # Ensure the output directory exists\n",
    "    os.makedirs(output_dir, exist_ok=True)\n",
    "\n",
    "    try:\n",
    "        # Read the alignment file\n",
    "        alignment = AlignIO.read(file_name, file_type)\n",
    "        \n",
    "        # Save the alignment in Stockholm format for reference\n",
    "        stockholm_file = os.path.join(output_dir, \"alignment.sth\")\n",
    "        AlignIO.write(alignment, stockholm_file, \"stockholm\")\n",
    "        print(f\"Alignment saved in Stockholm format at: {stockholm_file}\")\n",
    "\n",
    "        # Calculate pairwise distances\n",
    "        calculator = DistanceCalculator(matrix)\n",
    "        dm = calculator.get_distance(alignment)\n",
    "        \n",
    "        # Construct trees using UPGMA and NJ methods\n",
    "        constructor = DistanceTreeConstructor()\n",
    "        upgma_tree = constructor.upgma(dm)\n",
    "        nj_tree = constructor.nj(dm)\n",
    "\n",
    "        # Display trees as ASCII\n",
    "        print(\"Neighbor-Joining Tree:\")\n",
    "        Phylo.draw_ascii(nj_tree, column_width=120)\n",
    "        print(\"-\" * 50)\n",
    "        print(\"UPGMA Tree:\")\n",
    "        Phylo.draw_ascii(upgma_tree, column_width=120)\n",
    "\n",
    "    except Exception as e:\n",
    "        print(f\"An error occurred: {e}\")"
   ]
  },
  {
   "cell_type": "code",
   "execution_count": 96,
   "metadata": {},
   "outputs": [
    {
     "name": "stdout",
     "output_type": "stream",
     "text": [
      "Alignment saved in Stockholm format at: tree_output\\alignment.sth\n",
      "Neighbor-Joining Tree:\n",
      "                         _______________________________________________________________ gi|3046719|emb|AJ005061.1|\n",
      "  ______________________|\n",
      " |                      |                ____ Query\n",
      " |                      |_______________|\n",
      " |                                      | gi|1257575185|dbj|LC171348.1|\n",
      " |\n",
      "_, gi|1757450197|gb|MK570509.1|\n",
      " |\n",
      " | gi|1757450143|gb|MK570508.1|\n",
      " |\n",
      " | , gi|42820782|emb|AJ575642.1|\n",
      " |_|\n",
      "   | gi|2784321086|gb|CP165606.1|\n",
      "\n",
      "--------------------------------------------------\n",
      "UPGMA Tree:\n",
      "  _________________________________________________________ gi|3046719|emb|AJ005061.1|\n",
      " |\n",
      " |                                                                                      , gi|42820782|emb|AJ575642.1|\n",
      " |                                                                                     _|\n",
      "_|                                                                                    | | gi|2784321086|gb|CP165606.1|\n",
      " |                                                      ______________________________|\n",
      " |                                                     |                              | , gi|1757450197|gb|MK570509.1|\n",
      " |                                                     |                              |_|\n",
      " |_____________________________________________________|                                | gi|1757450143|gb|MK570508.1|\n",
      "                                                       |\n",
      "                                                       |                           ___ gi|1257575185|dbj|LC171348.1|\n",
      "                                                       |__________________________|\n",
      "                                                                                  |___ Query\n",
      "\n"
     ]
    }
   ],
   "source": [
    "build_trees(\n",
    "    file_name=\"clustal_output/comS.aln\",\n",
    "    file_type=\"clustal\",\n",
    "    matrix=\"blosum62\",\n",
    "    output_dir=\"tree_output\"\n",
    ")"
   ]
  },
  {
   "cell_type": "markdown",
   "metadata": {},
   "source": [
    "Função para ver a regulação"
   ]
  },
  {
   "cell_type": "code",
   "execution_count": 97,
   "metadata": {},
   "outputs": [],
   "source": [
    "def get_regulatory_proteins(gene_id):\n",
    "    \"\"\"\n",
    "    Fetches regulatory annotations for a gene from UniProt.\n",
    "    \n",
    "    Args:\n",
    "        gene_id (str): UniProt ID of the gene.\n",
    "    \n",
    "    Returns:\n",
    "        list: List of regulatory interactions.\n",
    "    \"\"\"\n",
    "    handle = ExPASy.get_sprot_raw(gene_id)\n",
    "    record = SwissProt.read(handle)\n",
    "    regulatory_info = []\n",
    "    for comment in record.comments:\n",
    "        if \"regulation\" in comment.lower():\n",
    "            regulatory_info.append(comment)\n",
    "    if not regulatory_info:\n",
    "        return \"Regulatory Info not found\"\n",
    "    return regulatory_info"
   ]
  },
  {
   "cell_type": "code",
   "execution_count": 98,
   "metadata": {},
   "outputs": [
    {
     "name": "stdout",
     "output_type": "stream",
     "text": [
      "Regulatory Info not found\n"
     ]
    }
   ],
   "source": [
    "# Example Usage\n",
    "gene_id = \"P80355\"  # Example UniProt ID\n",
    "regulation_data = get_regulatory_proteins(gene_id)\n",
    "print(regulation_data)"
   ]
  },
  {
   "cell_type": "markdown",
   "metadata": {},
   "source": [
    "Função para identificar variantes"
   ]
  },
  {
   "cell_type": "code",
   "execution_count": 72,
   "metadata": {},
   "outputs": [],
   "source": [
    "def fetch_variants_from_dbSNP(gene_id):\n",
    "    \"\"\"\n",
    "    Fetches variant information for a gene from dbSNP via NCBI Entrez.\n",
    "    \n",
    "    Args:\n",
    "        gene_id (str): The Gene ID of the gene of interest.\n",
    "    \n",
    "    Returns:\n",
    "        str: Raw data from dbSNP related to the gene.\n",
    "    \"\"\"\n",
    "    Entrez.email = \"your_email@example.com\"\n",
    "    handle = Entrez.esearch(db=\"snp\", term=f\"{gene_id}[Gene ID]\")\n",
    "    record = Entrez.read(handle)\n",
    "    handle.close()\n",
    "\n",
    "    # Fetch variant data\n",
    "    snp_ids = record[\"IdList\"]\n",
    "    if not snp_ids:\n",
    "        return \"No variants found for this gene.\"\n",
    "    \n",
    "    handle = Entrez.efetch(db=\"snp\", id=\",\".join(snp_ids), rettype=\"xml\", retmode=\"text\")\n",
    "    data = handle.read()\n",
    "    handle.close()\n",
    "    return data"
   ]
  },
  {
   "cell_type": "code",
   "execution_count": 74,
   "metadata": {},
   "outputs": [
    {
     "name": "stdout",
     "output_type": "stream",
     "text": [
      "No variants found for this gene.\n"
     ]
    }
   ],
   "source": [
    "gene_id = \"938310\" \n",
    "variants = fetch_variants_from_dbSNP(gene_id)\n",
    "print(variants)"
   ]
  }
 ],
 "metadata": {
  "kernelspec": {
   "display_name": "labs",
   "language": "python",
   "name": "python3"
  },
  "language_info": {
   "codemirror_mode": {
    "name": "ipython",
    "version": 3
   },
   "file_extension": ".py",
   "mimetype": "text/x-python",
   "name": "python",
   "nbconvert_exporter": "python",
   "pygments_lexer": "ipython3",
   "version": "3.10.15"
  }
 },
 "nbformat": 4,
 "nbformat_minor": 2
}
