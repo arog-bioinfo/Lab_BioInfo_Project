{
 "cells": [
  {
   "cell_type": "markdown",
   "metadata": {},
   "source": [
    "Esta é uma script em jupyter para fazer pequenas funções e depois passar para a script em python."
   ]
  },
  {
   "cell_type": "code",
   "execution_count": 1,
   "metadata": {},
   "outputs": [
    {
     "name": "stderr",
     "output_type": "stream",
     "text": [
      "c:\\Users\\arafa\\miniconda3\\envs\\labs\\lib\\site-packages\\Bio\\Application\\__init__.py:39: BiopythonDeprecationWarning: The Bio.Application modules and modules relying on it have been deprecated.\n",
      "\n",
      "Due to the on going maintenance burden of keeping command line application\n",
      "wrappers up to date, we have decided to deprecate and eventually remove these\n",
      "modules.\n",
      "\n",
      "We instead now recommend building your command line and invoking it directly\n",
      "with the subprocess module.\n",
      "  warnings.warn(\n"
     ]
    }
   ],
   "source": [
    "import os\n",
    "import subprocess\n",
    "from Bio import SeqIO, SeqFeature, Entrez, AlignIO, ExPASy, SwissProt\n",
    "from Bio.Seq import Seq\n",
    "from Bio.SeqRecord import SeqRecord\n",
    "from Bio.Blast import NCBIXML, NCBIWWW\n",
    "from Bio.Align.Applications import ClustalwCommandline\n",
    "from Bio.Phylo.TreeConstruction import DistanceTreeConstructor, DistanceCalculator\n",
    "from Bio import Phylo"
   ]
  },
  {
   "cell_type": "markdown",
   "metadata": {},
   "source": [
    "### Análise da sequência e das features presentes no NCBI"
   ]
  },
  {
   "cell_type": "markdown",
   "metadata": {},
   "source": [
    "Funtion to get gene genbank file"
   ]
  },
  {
   "cell_type": "code",
   "execution_count": 9,
   "metadata": {},
   "outputs": [],
   "source": [
    "def get_seq(accession, filename, db, rettype, email=\"your_email@example.com\", output_dir=\"output\"):\n",
    "    \"\"\"\n",
    "    Fetches a sequence from NCBI and saves it to a file in the specified output directory.\n",
    "    \n",
    "    Args:\n",
    "        accession (str): NCBI Accession or ID.\n",
    "        filename (str): File name to save the sequence.\n",
    "        db (str): NCBI database to query (e.g., \"nucleotide\", \"protein\").\n",
    "        rettype (str): Format of the returned sequence (e.g., \"fasta\", \"gb\").\n",
    "        email (str): User's email for NCBI access.\n",
    "        output_dir (str): Directory where the file will be saved.\n",
    "    \n",
    "    Returns:\n",
    "        str: Full path to the saved file.\n",
    "    \"\"\"\n",
    "    Entrez.email = email\n",
    "    os.makedirs(output_dir, exist_ok=True)  # Ensure output directory exists\n",
    "    output_path = os.path.join(output_dir, filename)  # Full path to save file\n",
    "\n",
    "    try:\n",
    "        print(f\"Fetching data for accession: {accession} from {db} database...\")\n",
    "        handle = Entrez.efetch(db=db, id=accession, rettype=rettype, retmode=\"text\")\n",
    "        sequence_data = handle.read()\n",
    "        handle.close()\n",
    "\n",
    "        # Save the sequence to the output file\n",
    "        with open(output_path, \"w\") as file:\n",
    "            file.write(sequence_data)\n",
    "        print(f\"Sequence saved successfully to {output_path}.\")\n",
    "        return output_path\n",
    "\n",
    "    except Exception as e:\n",
    "        print(f\"An error occurred: {e}\")\n",
    "        return None\n"
   ]
  },
  {
   "cell_type": "code",
   "execution_count": 13,
   "metadata": {},
   "outputs": [
    {
     "name": "stdout",
     "output_type": "stream",
     "text": [
      "Fetching data for accession: U10926.1 from nucleotide database...\n",
      "Sequence saved successfully to genes\\comS.gb.\n"
     ]
    },
    {
     "data": {
      "text/plain": [
       "'genes\\\\comS.gb'"
      ]
     },
     "execution_count": 13,
     "metadata": {},
     "output_type": "execute_result"
    }
   ],
   "source": [
    "get_seq(\"U10926.1\", db=\"nucleotide\",rettype=\"gb\", filename = \"comS.gb\", output_dir=\"genes\")"
   ]
  },
  {
   "cell_type": "code",
   "execution_count": 8,
   "metadata": {},
   "outputs": [
    {
     "name": "stdout",
     "output_type": "stream",
     "text": [
      "Fetching data for accession: AAA61567.1 from protein database...\n",
      "Sequence saved successfully to proteins\\comS_prot.fasta.\n"
     ]
    },
    {
     "data": {
      "text/plain": [
       "'proteins\\\\comS_prot.fasta'"
      ]
     },
     "execution_count": 8,
     "metadata": {},
     "output_type": "execute_result"
    }
   ],
   "source": [
    "get_seq(\"AAA61567.1\", filename = \"comS_prot.fasta\", output_dir=\"proteins\",db=\"protein\",rettype=\"fasta\")"
   ]
  },
  {
   "cell_type": "markdown",
   "metadata": {},
   "source": [
    "Funtion to extract cds sequence"
   ]
  },
  {
   "cell_type": "code",
   "execution_count": 2,
   "metadata": {},
   "outputs": [],
   "source": [
    "def extract_cds_from_genbank(genbank_file, filename=\"cds_sequences.fasta\", output_dir=\"genes_cds\"):\n",
    "    \"\"\"\n",
    "    Extracts CDS sequences from a GenBank file and saves them as FASTA.\n",
    "    \n",
    "    Args:\n",
    "        genbank_file (str): Path to the GenBank file.\n",
    "        filename (str): Filename of the extracted CDS sequences in FASTA format.\n",
    "        output_dir (str): Directory where the file will be saved.\n",
    "    \n",
    "    Returns:\n",
    "        None\n",
    "    \"\"\"\n",
    "    os.makedirs(output_dir, exist_ok=True)  # Create the directory if it doesn't exist\n",
    "    output_path = os.path.join(output_dir, filename)  # Full path to the output file\n",
    "    \n",
    "    cds_count = 0\n",
    "    with open(output_path, \"w\") as fasta_output:\n",
    "        for record in SeqIO.parse(genbank_file, \"genbank\"):\n",
    "            # Extract species name from the record annotations\n",
    "            species_name = record.annotations.get(\"organism\", \"Unknown_species\").replace(\" \", \"_\")\n",
    "\n",
    "            for feature in record.features:\n",
    "                if feature.type == \"CDS\":\n",
    "                    # Extract the CDS sequence\n",
    "                    cds_seq = feature.extract(record.seq)\n",
    "                    \n",
    "                    # Get the gene ID from qualifiers\n",
    "                    gene_id = feature.qualifiers.get(\"gene\", [\"Unknown_gene\"])[0]\n",
    "                    \n",
    "                    # Write the CDS to the FASTA file\n",
    "                    fasta_output.write(f\">{species_name}|{gene_id}\\n{cds_seq}\\n\")\n",
    "                    cds_count += 1\n",
    "    \n",
    "    print(f\"{cds_count} CDS sequences extracted and saved to {filename}.\")"
   ]
  },
  {
   "cell_type": "code",
   "execution_count": 3,
   "metadata": {},
   "outputs": [
    {
     "name": "stdout",
     "output_type": "stream",
     "text": [
      "1 CDS sequences extracted and saved to comS_cds.fasta.\n"
     ]
    }
   ],
   "source": [
    "extract_cds_from_genbank(\"genes/comS.gb\", \"comS_cds.fasta\")"
   ]
  },
  {
   "cell_type": "markdown",
   "metadata": {},
   "source": [
    "Function to get the annotation from genbank file"
   ]
  },
  {
   "cell_type": "code",
   "execution_count": 50,
   "metadata": {},
   "outputs": [],
   "source": [
    "def extract_annotations(filename):\n",
    "    \"\"\"\n",
    "    Extracts annotations from a GenBank file.\n",
    "    \n",
    "    Args:\n",
    "        filename (str): Path to the GenBank file.\n",
    "    \"\"\"\n",
    "    try:\n",
    "        record = SeqIO.read(filename, \"genbank\")\n",
    "        print(f\"Gene Description: {record.description}\")\n",
    "        print(f\"Organism: {record.annotations.get('organism', 'Unknown')}\")\n",
    "        print(f\"Annotations: {record.annotations}\")\n",
    "\n",
    "    except Exception as e:\n",
    "        print(f\"An error occurred: {e}\")\n"
   ]
  },
  {
   "cell_type": "code",
   "execution_count": 51,
   "metadata": {},
   "outputs": [
    {
     "name": "stdout",
     "output_type": "stream",
     "text": [
      "Gene Description: Bacillus subtilis 168 genetic competence regulation (comS) gene, complete cds\n",
      "Organism: Bacillus subtilis subsp. subtilis str. 168\n",
      "Annotations: {'molecule_type': 'DNA', 'topology': 'linear', 'data_file_division': 'BCT', 'date': '26-JAN-1995', 'accessions': ['U10926'], 'sequence_version': 1, 'keywords': [''], 'source': 'Bacillus subtilis subsp. subtilis str. 168', 'organism': 'Bacillus subtilis subsp. subtilis str. 168', 'taxonomy': ['Bacteria', 'Bacillati', 'Bacillota', 'Bacilli', 'Bacillales', 'Bacillaceae', 'Bacillus'], 'references': [Reference(title='Identification of comS, a gene of the srfA operon that regulates the establishment of genetic competence in Bacillus subtilis', ...), Reference(title=\"Nucleotide sequence of 5' portion of srfA that contains the region required for competence establishment in Bacillus subtilus\", ...), Reference(title='Direct Submission', ...)]}\n"
     ]
    }
   ],
   "source": [
    "extract_annotations(\"genes/comS.gb\")"
   ]
  },
  {
   "cell_type": "markdown",
   "metadata": {},
   "source": [
    "Funtion to analyse features and qualifiers"
   ]
  },
  {
   "cell_type": "code",
   "execution_count": 53,
   "metadata": {},
   "outputs": [],
   "source": [
    "def analyze_features(filename):\n",
    "    \"\"\"\n",
    "    Analyzes features and qualifiers in a GenBank file.\n",
    "    \n",
    "    Args:\n",
    "        filename (str): Path to the GenBank file.\n",
    "    \"\"\"\n",
    "    try:\n",
    "        record = SeqIO.read(f\"genes/{filename}\", \"genbank\")\n",
    "        print(f\"Number of Features: {len(record.features)}\")\n",
    "        for feature in record.features:\n",
    "            print(f\"Type: {feature.type}\")\n",
    "            print(f\"Location: {feature.location}\")\n",
    "            print(f\"Qualifiers: {feature.qualifiers}\")\n",
    "            print(\"-\" * 50)\n",
    "            \n",
    "    except Exception as e:\n",
    "        print(f\"An error occurred: {e}\")\n"
   ]
  },
  {
   "cell_type": "code",
   "execution_count": 54,
   "metadata": {},
   "outputs": [
    {
     "name": "stdout",
     "output_type": "stream",
     "text": [
      "Number of Features: 4\n",
      "Type: source\n",
      "Location: [0:570](+)\n",
      "Qualifiers: {'organism': ['Bacillus subtilis subsp. subtilis str. 168'], 'mol_type': ['genomic DNA'], 'strain': ['168'], 'sub_species': ['subtilis'], 'type_material': ['type strain of Bacillus subtilis'], 'db_xref': ['taxon:224308'], 'map': ['30 degrees'], 'note': ['sequence similar to srfA2 gene, GenBank Accession Number X70356, and srfAB gene, GenBank Accession Number D13262']}\n",
      "--------------------------------------------------\n",
      "Type: regulatory\n",
      "Location: [188:189](+)\n",
      "Qualifiers: {'regulatory_class': ['ribosome_binding_site']}\n",
      "--------------------------------------------------\n",
      "Type: gene\n",
      "Location: [210:351](+)\n",
      "Qualifiers: {'gene': ['comS']}\n",
      "--------------------------------------------------\n",
      "Type: CDS\n",
      "Location: [210:351](+)\n",
      "Qualifiers: {'gene': ['comS'], 'function': ['regulation of genetic competence'], 'experiment': ['experimental evidence, no additional details recorded'], 'codon_start': ['1'], 'transl_table': ['11'], 'organism': ['Bacillus subtilis'], 'product': ['ComS'], 'protein_id': ['AAA61567.1'], 'translation': ['MNRSGKHLISSIILYPRPSGECISSISLDKQTQATTSPLYFCWREK']}\n",
      "--------------------------------------------------\n"
     ]
    }
   ],
   "source": [
    "analyze_features(\"comS.gb\")"
   ]
  },
  {
   "cell_type": "markdown",
   "metadata": {},
   "source": [
    "Funtion to extract external references"
   ]
  },
  {
   "cell_type": "code",
   "execution_count": 38,
   "metadata": {},
   "outputs": [],
   "source": [
    "def extract_external_references(filename):\n",
    "    \"\"\"\n",
    "    Extracts external database references from a GenBank file.\n",
    "    \n",
    "    Args:\n",
    "        filename (str): Path to the GenBank file.\n",
    "    \"\"\"\n",
    "    try:\n",
    "        record = SeqIO.read(filename, \"genbank\")\n",
    "        external_refs = []\n",
    "\n",
    "        for feature in record.features:\n",
    "            if \"db_xref\" in feature.qualifiers:\n",
    "                external_refs.extend(feature.qualifiers[\"db_xref\"])\n",
    "        print(\"External References:\")\n",
    "\n",
    "        for ref in set(external_refs):\n",
    "            print(ref)\n",
    "            \n",
    "    except Exception as e:\n",
    "        print(f\"An error occurred: {e}\")\n",
    "\n"
   ]
  },
  {
   "cell_type": "code",
   "execution_count": 56,
   "metadata": {},
   "outputs": [
    {
     "name": "stdout",
     "output_type": "stream",
     "text": [
      "External References:\n",
      "taxon:224308\n"
     ]
    }
   ],
   "source": [
    "extract_external_references(\"genes/comS.gb\")"
   ]
  },
  {
   "cell_type": "markdown",
   "metadata": {},
   "source": [
    "### Análise de homologias por BLAST"
   ]
  },
  {
   "cell_type": "markdown",
   "metadata": {},
   "source": [
    "Função para fazer um NCBI blast apartir de um file (pode-se escolher o tipo de blast, database e outros parâmetros)"
   ]
  },
  {
   "cell_type": "code",
   "execution_count": 39,
   "metadata": {},
   "outputs": [],
   "source": [
    "def blast(file_name, file_format = \"fasta\", program = \"blastn\", database = \"nt\", e_value = 0.05, hitlist_size = 100):\n",
    "    \"\"\"\n",
    "    Performs a BLAST search for a sequence contained in a file.\n",
    "    \n",
    "    Parameters:\n",
    "        file_name (str): Name of the file containing the sequence.\n",
    "        file_format (str): Format of the file (default: 'fasta').\n",
    "        program (str): BLAST program to use (default: 'blastn').\n",
    "        database (str): Database to search (default: 'nt').\n",
    "        e_value (float): E-value threshold for the search (default: 0.05).\n",
    "        hitlist_size (int): Number of hits to return (default: 100).\n",
    "    \n",
    "    Returns:\n",
    "        A handle with the BLAST results, or None in case of an error.\n",
    "    \"\"\"\n",
    "\n",
    "    try:\n",
    "        # Open the sequence file and read it using Biopython\n",
    "        record = SeqIO.read(open(file_name), format=file_format)\n",
    "\n",
    "        print(\"BLASTing...\")\n",
    "        # Perform the BLAST search using NCBIWWW.qblast\n",
    "        result_handle = NCBIWWW.qblast(program, database, record.format(\"fasta\"), expect=e_value, hitlist_size=hitlist_size)\n",
    "\n",
    "        # Print success message and return the BLAST results handle\n",
    "        print(\"BLAST completed successfully.\")\n",
    "        return result_handle\n",
    "\n",
    "    except Exception as e:\n",
    "        # Catch any exceptions and print an error message\n",
    "        print(f\"Error running BLAST: {e}\")\n",
    "        return None"
   ]
  },
  {
   "cell_type": "markdown",
   "metadata": {},
   "source": [
    "Função que utiliza função blast, mas guardar o output num file."
   ]
  },
  {
   "cell_type": "code",
   "execution_count": 15,
   "metadata": {},
   "outputs": [],
   "source": [
    "def get_blast(file_name, output_name=\"blast_result\", output_dir=\"blast_output\", file_format=\"fasta\", program=\"blastn\", database=\"nt\", e_value=0.01, hitlist_size=100):\n",
    "    \"\"\"\n",
    "    Performs a BLAST search using the `blast` function and saves the results to a file.\n",
    "    \n",
    "    Parameters:\n",
    "        file_name (str): Name of the file containing the sequence.\n",
    "        output_name (str): Name of the file to save the results.\n",
    "        Other parameters are the same as those in the `blast` function.\n",
    "    \"\"\"\n",
    "    os.makedirs(output_dir, exist_ok=True)  # Create the directory if it doesn't exist\n",
    "    output_path = os.path.join(output_dir, output_name)  # Full path to the output file\n",
    "\n",
    "    result_handle = blast(file_name, file_format, program, database, e_value, hitlist_size)\n",
    "\n",
    "    if result_handle is not None:\n",
    "        try:\n",
    "            # Save the results to an XML file\n",
    "            with open(f\"{output_path}.xml\", \"w\") as save_file:\n",
    "                save_file.write(result_handle.read())\n",
    "                print(f\"Results saved to {output_name}.xml.\")\n",
    "\n",
    "        except Exception as e:\n",
    "            print(f\"Error saving the results: {e}\")\n",
    "\n",
    "        finally:\n",
    "            result_handle.close()\n",
    "\n",
    "    "
   ]
  },
  {
   "cell_type": "markdown",
   "metadata": {},
   "source": [
    "Teste da função *get_blast* "
   ]
  },
  {
   "cell_type": "code",
   "execution_count": 20,
   "metadata": {},
   "outputs": [
    {
     "name": "stdout",
     "output_type": "stream",
     "text": [
      "BLASTing...\n",
      "BLAST concluído com sucesso.\n",
      "Resultados salvos em comS_cds.xml.\n"
     ]
    }
   ],
   "source": [
    "get_blast(\"genes_cds/comS_cds.fasta\", output_name =\"comS_cds\", hitlist_size=10000)"
   ]
  },
  {
   "cell_type": "code",
   "execution_count": 34,
   "metadata": {},
   "outputs": [
    {
     "name": "stdout",
     "output_type": "stream",
     "text": [
      "BLASTing...\n",
      "BLAST concluído com sucesso.\n",
      "Resultados salvos em comS_protein.xml.\n"
     ]
    }
   ],
   "source": [
    "get_blast(\"proteins/comS_prot.fasta\", output_name =\"comS_protein\",program = \"blastp\", database = \"nr\", hitlist_size=10000)"
   ]
  },
  {
   "cell_type": "markdown",
   "metadata": {},
   "source": [
    "Function to parse a blast result"
   ]
  },
  {
   "cell_type": "code",
   "execution_count": 5,
   "metadata": {},
   "outputs": [],
   "source": [
    "def parse_blast_results(file_name, exclude=None, e_value_thresh=0.05, identity_thresh=90):\n",
    "    \"\"\"\n",
    "    Parses BLAST results and extracts significant hits, excluding specific species or TaxIDs.\n",
    "    \n",
    "    Args:\n",
    "        file_name (str): Path to the BLAST result file in XML format.\n",
    "        exclude_taxid (int or None): TaxID of the species to exclude.\n",
    "        exclude_species (str or None): Species name to exclude (e.g., \"Bacillus subtilis\").\n",
    "        e_value_thresh (float): Threshold for E-value significance.\n",
    "        identity_thresh (float): Minimum percentage identity for significant hits.\n",
    "    \n",
    "    Returns:\n",
    "        list: A list of dictionaries containing significant hit information.\n",
    "    \"\"\"\n",
    "    from Bio.Blast import NCBIXML\n",
    "\n",
    "    with open(file_name) as result_handle:\n",
    "        blast_record = NCBIXML.read(result_handle)\n",
    "    \n",
    "    significant_hits = []\n",
    "    for alignment in blast_record.alignments:\n",
    "        EXC = False\n",
    "        if exclude:\n",
    "            for _ in exclude:\n",
    "                if _.lower() in alignment.title.lower():\n",
    "                    EXC = True\n",
    "                    break  # Exit the loop once a match is found\n",
    "        \n",
    "        if not EXC:\n",
    "            for hsp in alignment.hsps:\n",
    "                if hsp.expect < e_value_thresh and (hsp.identities / hsp.align_length) * 100 > identity_thresh:\n",
    "                    hit_info = {\n",
    "                        \"title\": alignment.title,\n",
    "                        \"length\": alignment.length,\n",
    "                        \"e_value\": hsp.expect,\n",
    "                        \"identity\": (hsp.identities / hsp.align_length) * 100,\n",
    "                        \"alignment_length\": hsp.align_length\n",
    "                    }\n",
    "                    significant_hits.append(hit_info)\n",
    "                    \n",
    "    \n",
    "    return significant_hits"
   ]
  },
  {
   "cell_type": "code",
   "execution_count": 32,
   "metadata": {},
   "outputs": [
    {
     "data": {
      "text/plain": [
       "[{'title': 'gi|1257575185|dbj|LC171348.1| Bacillus sp. FW1 genes for pyrene metabolism, contig_7',\n",
       "  'length': 455392,\n",
       "  'e_value': 5.1292e-61,\n",
       "  'identity': 98.58156028368793,\n",
       "  'alignment_length': 141},\n",
       " {'title': 'gi|1757450143|gb|MK570508.1| Bacillus amyloliquefaciens strain TSBSO3.8 surfactin gene region',\n",
       "  'length': 65411,\n",
       "  'e_value': 7.136e-34,\n",
       "  'identity': 84.39716312056737,\n",
       "  'alignment_length': 141},\n",
       " {'title': 'gi|1757450197|gb|MK570509.1| Bacillus amyloliquefaciens strain H2O-1 surfactin gene region',\n",
       "  'length': 65415,\n",
       "  'e_value': 7.136e-34,\n",
       "  'identity': 84.39716312056737,\n",
       "  'alignment_length': 141},\n",
       " {'title': 'gi|2784321086|gb|CP165606.1| Bacillus velezensis strain BP1 plasmid unnamed',\n",
       "  'length': 4056860,\n",
       "  'e_value': 3.0343e-32,\n",
       "  'identity': 83.68794326241135,\n",
       "  'alignment_length': 141},\n",
       " {'title': 'gi|42820782|emb|AJ575642.1| Bacillus amyloliquefaciens yciC gene, yx01 gene, yckc gene, yckD gene, yckE gene, nin gene, nuc gene, hxlB gene, hxlA gene, hxlR gene, xy02 gene, srfAA gene, srfAB gene, comS gene, srfAC gene, srfAD gene, aat gene, ycxc gene, ycxD gene, sfp gene, yczE gene, yckI gene and yckJ gene',\n",
       "  'length': 41884,\n",
       "  'e_value': 3.0343e-32,\n",
       "  'identity': 83.68794326241135,\n",
       "  'alignment_length': 141},\n",
       " {'title': 'gi|3046719|emb|AJ005061.1| Bacillus licheniformis BNP29 DNA for lichenysin A synthetase operon',\n",
       "  'length': 32386,\n",
       "  'e_value': 1.5732e-10,\n",
       "  'identity': 75.92592592592592,\n",
       "  'alignment_length': 108}]"
      ]
     },
     "execution_count": 32,
     "metadata": {},
     "output_type": "execute_result"
    }
   ],
   "source": [
    "parse_blast_results(\"blast_output/comS_cds.xml\", exclude=[\"subtilis\",\"chromosome\",\"complete\", \"genome\"], e_value_thresh=0.05, identity_thresh=70)"
   ]
  },
  {
   "cell_type": "code",
   "execution_count": 6,
   "metadata": {},
   "outputs": [
    {
     "data": {
      "text/plain": [
       "[{'title': 'ref|WP_231516564.1| competence protein ComS [Bacillus sp. MBGLi79]',\n",
       "  'length': 46,\n",
       "  'e_value': 8.88301e-25,\n",
       "  'identity': 97.82608695652173,\n",
       "  'alignment_length': 46},\n",
       " {'title': 'ref|WP_013307914.1| MULTISPECIES: competence protein ComS [Bacillus] >gb|ADM36419.1| regulator of genetic competence [Bacillus spizizenii str. W23] >gb|MCI3986321.1| competence protein ComS [Bacillus vallismortis] >gb|MCI4136758.1| competence protein ComS [Bacillus vallismortis] >gb|MCM3415811.1| competence protein ComS [Bacillus spizizenii] >gb|MCR4391170.1| competence protein ComS [Bacillus spizizenii]',\n",
       "  'length': 46,\n",
       "  'e_value': 1.47269e-24,\n",
       "  'identity': 97.82608695652173,\n",
       "  'alignment_length': 46},\n",
       " {'title': 'ref|WP_236827566.1| MULTISPECIES: competence protein ComS [Bacillus] >gb|MCI4169681.1| competence protein ComS [Bacillus spizizenii] >gb|MED0869893.1| competence protein ComS [Bacillus spizizenii] >gb|MED1072999.1| competence protein ComS [Bacillus spizizenii] >gb|MFD3202642.1| competence protein ComS [Bacillus sp. LR_5] >gb|XEW50449.1| competence protein ComS [Bacillus spizizenii]',\n",
       "  'length': 46,\n",
       "  'e_value': 2.00332e-24,\n",
       "  'identity': 97.82608695652173,\n",
       "  'alignment_length': 46},\n",
       " {'title': 'ref|WP_225516634.1| MULTISPECIES: competence protein ComS [Bacillus] >gb|MCY7751682.1| competence protein ComS [Bacillus inaquosorum] >gb|MCY7755916.1| competence protein ComS [Bacillus inaquosorum] >gb|MCY7820137.1| competence protein ComS [Bacillus inaquosorum] >gb|MCY7938464.1| competence protein ComS [Bacillus inaquosorum] >gb|MCY7941655.1| competence protein ComS [Bacillus inaquosorum]',\n",
       "  'length': 46,\n",
       "  'e_value': 2.78571e-24,\n",
       "  'identity': 97.82608695652173,\n",
       "  'alignment_length': 46},\n",
       " {'title': 'gb|MCY9369217.1| competence protein ComS [Bacillus spizizenii]',\n",
       "  'length': 46,\n",
       "  'e_value': 4.04773e-24,\n",
       "  'identity': 95.65217391304348,\n",
       "  'alignment_length': 46},\n",
       " {'title': 'ref|WP_240467619.1| competence protein ComS [Bacillus vallismortis]',\n",
       "  'length': 46,\n",
       "  'e_value': 6.71059e-24,\n",
       "  'identity': 95.65217391304348,\n",
       "  'alignment_length': 46},\n",
       " {'title': 'ref|WP_252687654.1| competence protein ComS [Bacillus vallismortis]',\n",
       "  'length': 46,\n",
       "  'e_value': 7.65657e-24,\n",
       "  'identity': 95.65217391304348,\n",
       "  'alignment_length': 46},\n",
       " {'title': 'ref|WP_250621922.1| competence protein ComS [Bacillus vallismortis] >gb|XDA08717.1| competence protein ComS [Bacillus vallismortis]',\n",
       "  'length': 46,\n",
       "  'e_value': 9.02872e-24,\n",
       "  'identity': 95.65217391304348,\n",
       "  'alignment_length': 46},\n",
       " {'title': 'ref|WP_268456160.1| competence protein ComS [Bacillus spizizenii] >gb|MCY7867669.1| competence protein ComS [Bacillus spizizenii] >gb|MEC1526261.1| competence protein ComS [Bacillus spizizenii] >gb|MEC2184894.1| competence protein ComS [Bacillus spizizenii]',\n",
       "  'length': 46,\n",
       "  'e_value': 9.02872e-24,\n",
       "  'identity': 95.65217391304348,\n",
       "  'alignment_length': 46},\n",
       " {'title': 'ref|WP_227099651.1| competence protein ComS [Bacillus stercoris] >gb|MCB7155477.1| competence protein ComS [Bacillus stercoris] >gb|MDQ1854899.1| competence protein ComS [Bacillus stercoris] >gb|MEN9077508.1| competence protein ComS [Bacillus stercoris]',\n",
       "  'length': 46,\n",
       "  'e_value': 9.43447e-24,\n",
       "  'identity': 97.82608695652173,\n",
       "  'alignment_length': 46},\n",
       " {'title': 'gb|MCY7826269.1| competence protein ComS [Bacillus spizizenii] >gb|MCY7869979.1| competence protein ComS [Bacillus spizizenii] >gb|MCY8229415.1| competence protein ComS [Bacillus spizizenii] >gb|MCY8799446.1| competence protein ComS [Bacillus spizizenii] >gb|MCY8891628.1| competence protein ComS [Bacillus spizizenii]',\n",
       "  'length': 46,\n",
       "  'e_value': 2.05866e-23,\n",
       "  'identity': 95.65217391304348,\n",
       "  'alignment_length': 46},\n",
       " {'title': 'ref|WP_232919007.1| MULTISPECIES: competence protein ComS [Bacillus] >gb|MCE0738771.1| competence protein ComS [Bacillus sp. G16] >gb|MCY7766495.1| competence protein ComS [Bacillus inaquosorum] >gb|MCY7903926.1| competence protein ComS [Bacillus inaquosorum] >gb|MCY7908658.1| competence protein ComS [Bacillus inaquosorum] >gb|MCY7928328.1| competence protein ComS [Bacillus inaquosorum]',\n",
       "  'length': 46,\n",
       "  'e_value': 2.08141e-23,\n",
       "  'identity': 95.65217391304348,\n",
       "  'alignment_length': 46},\n",
       " {'title': 'ref|WP_254610356.1| competence protein ComS [Bacillus tequilensis]',\n",
       "  'length': 46,\n",
       "  'e_value': 2.12767e-23,\n",
       "  'identity': 95.65217391304348,\n",
       "  'alignment_length': 46},\n",
       " {'title': 'ref|WP_268274841.1| competence protein ComS [Bacillus inaquosorum] >gb|MCY9012170.1| competence protein ComS [Bacillus inaquosorum] >gb|MCY9039983.1| competence protein ComS [Bacillus inaquosorum] >gb|MCY9102102.1| competence protein ComS [Bacillus inaquosorum] >gb|MCY9124610.1| competence protein ComS [Bacillus inaquosorum]',\n",
       "  'length': 46,\n",
       "  'e_value': 4.11405e-23,\n",
       "  'identity': 95.65217391304348,\n",
       "  'alignment_length': 46},\n",
       " {'title': 'gb|MDZ5722365.1| competence protein ComS [Bacillus sp. X(2023)]',\n",
       "  'length': 46,\n",
       "  'e_value': 5.9125e-23,\n",
       "  'identity': 95.65217391304348,\n",
       "  'alignment_length': 46},\n",
       " {'title': 'ref|WP_237708005.1| MULTISPECIES: competence protein ComS [Bacillus] >gb|MDO3661649.1| competence protein ComS [Bacillus sp. C28GYM-DRY-1]',\n",
       "  'length': 46,\n",
       "  'e_value': 7.78197e-23,\n",
       "  'identity': 93.47826086956522,\n",
       "  'alignment_length': 46},\n",
       " {'title': 'ref|WP_268426884.1| competence protein ComS [Bacillus inaquosorum] >gb|MCY9176393.1| competence protein ComS [Bacillus inaquosorum]',\n",
       "  'length': 46,\n",
       "  'e_value': 7.95491e-23,\n",
       "  'identity': 95.65217391304348,\n",
       "  'alignment_length': 46},\n",
       " {'title': 'ref|WP_250501457.1| competence protein ComS [Bacillus inaquosorum] >gb|MED4649807.1| competence protein ComS [Bacillus inaquosorum] >gb|MED4792908.1| competence protein ComS [Bacillus inaquosorum]',\n",
       "  'length': 46,\n",
       "  'e_value': 9.38051e-23,\n",
       "  'identity': 95.65217391304348,\n",
       "  'alignment_length': 46},\n",
       " {'title': 'ref|WP_229150297.1| MULTISPECIES: competence protein ComS [Bacillus] >gb|MCC2931960.1| competence protein ComS [Bacillus sp. LBG-1-113] >gb|MCY8104677.1| competence protein ComS [Bacillus mojavensis] >gb|MCY8483706.1| competence protein ComS [Bacillus mojavensis] >gb|MCY8508153.1| competence protein ComS [Bacillus mojavensis] >gb|MCY9093305.1| competence protein ComS [Bacillus mojavensis]',\n",
       "  'length': 46,\n",
       "  'e_value': 1.53815e-22,\n",
       "  'identity': 93.47826086956522,\n",
       "  'alignment_length': 46},\n",
       " {'title': 'ref|WP_268276567.1| competence protein ComS [Bacillus inaquosorum] >gb|MCY7901983.1| competence protein ComS [Bacillus inaquosorum] >gb|MCY8264577.1| competence protein ComS [Bacillus inaquosorum] >gb|MCY8283904.1| competence protein ComS [Bacillus inaquosorum] >gb|MCY9455195.1| competence protein ComS [Bacillus inaquosorum]',\n",
       "  'length': 46,\n",
       "  'e_value': 3.87175e-22,\n",
       "  'identity': 93.47826086956522,\n",
       "  'alignment_length': 46},\n",
       " {'title': 'ref|WP_223203921.1| MULTISPECIES: competence protein ComS [Bacillus] >gb|MCC2117969.1| competence protein ComS [Bacillus halotolerans] >gb|MCC2528633.1| competence protein ComS [Bacillus halotolerans] >gb|MCK8099170.1| competence protein ComS [Bacillus sp. 2CMS4F] >gb|MCM3355230.1| competence protein ComS [Bacillus halotolerans] >gb|MCP9301357.1| competence protein ComS [Bacillus halotolerans]',\n",
       "  'length': 46,\n",
       "  'e_value': 4.36925e-22,\n",
       "  'identity': 91.30434782608695,\n",
       "  'alignment_length': 46},\n",
       " {'title': 'ref|WP_326130934.1| competence protein ComS [Bacillus mojavensis] >gb|MEC1292624.1| competence protein ComS [Bacillus mojavensis] >gb|MEC1615266.1| competence protein ComS [Bacillus mojavensis] >gb|MEC1623745.1| competence protein ComS [Bacillus mojavensis] >gb|MEC1634842.1| competence protein ComS [Bacillus mojavensis] >gb|MEC1661399.1| competence protein ComS [Bacillus mojavensis]',\n",
       "  'length': 46,\n",
       "  'e_value': 1.2687e-21,\n",
       "  'identity': 91.30434782608695,\n",
       "  'alignment_length': 46},\n",
       " {'title': 'ref|WP_229043748.1| competence protein ComS [Bacillus sp. AF23] >gb|MCC8353392.1| competence protein ComS [Bacillus sp. AF23]',\n",
       "  'length': 46,\n",
       "  'e_value': 2.10329e-21,\n",
       "  'identity': 89.13043478260869,\n",
       "  'alignment_length': 46},\n",
       " {'title': 'ref|WP_286239865.1| competence protein ComS [Bacillus halotolerans] >gb|MDL5612604.1| competence protein ComS [Bacillus halotolerans]',\n",
       "  'length': 46,\n",
       "  'e_value': 3.56441e-21,\n",
       "  'identity': 89.13043478260869,\n",
       "  'alignment_length': 46},\n",
       " {'title': 'ref|WP_336183874.1| competence protein ComS [Bacillus sp. 205(2023)]',\n",
       "  'length': 46,\n",
       "  'e_value': 5.65507e-21,\n",
       "  'identity': 89.13043478260869,\n",
       "  'alignment_length': 46},\n",
       " {'title': 'ref|WP_242521232.1| competence protein ComS [Bacillus halotolerans]',\n",
       "  'length': 46,\n",
       "  'e_value': 6.04051e-21,\n",
       "  'identity': 89.13043478260869,\n",
       "  'alignment_length': 46},\n",
       " {'title': 'ref|WP_268322562.1| competence protein ComS, partial [Bacillus inaquosorum] >gb|MCY7789156.1| competence protein ComS [Bacillus inaquosorum]',\n",
       "  'length': 40,\n",
       "  'e_value': 3.77767e-20,\n",
       "  'identity': 100.0,\n",
       "  'alignment_length': 40},\n",
       " {'title': 'ref|WP_223251907.1| competence protein ComS [Bacillus atrophaeus]',\n",
       "  'length': 46,\n",
       "  'e_value': 3.70016e-18,\n",
       "  'identity': 82.6086956521739,\n",
       "  'alignment_length': 46},\n",
       " {'title': 'ref|WP_268386898.1| competence protein ComS [Bacillus atrophaeus] >gb|MCY8464169.1| competence protein ComS [Bacillus atrophaeus] >gb|MCY8479268.1| competence protein ComS [Bacillus atrophaeus] >gb|MCY8960222.1| competence protein ComS [Bacillus atrophaeus] >gb|MCY8965468.1| competence protein ComS [Bacillus atrophaeus] >gb|MCY9440281.1| competence protein ComS [Bacillus atrophaeus]',\n",
       "  'length': 46,\n",
       "  'e_value': 5.64624e-17,\n",
       "  'identity': 80.43478260869566,\n",
       "  'alignment_length': 46},\n",
       " {'title': 'ref|WP_223254972.1| competence protein ComS [Bacillus atrophaeus] >gb|MCY8499463.1| competence protein ComS [Bacillus atrophaeus] >gb|MCY8523449.1| competence protein ComS [Bacillus atrophaeus] >gb|MCY8527364.1| competence protein ComS [Bacillus atrophaeus] >gb|MCY8810969.1| competence protein ComS [Bacillus atrophaeus] >gb|MCY8814834.1| competence protein ComS [Bacillus atrophaeus]',\n",
       "  'length': 46,\n",
       "  'e_value': 7.43132e-17,\n",
       "  'identity': 80.43478260869566,\n",
       "  'alignment_length': 46},\n",
       " {'title': 'ref|WP_223251813.1| MULTISPECIES: competence protein ComS [Bacillus] >gb|MCG8397914.1| competence protein ComS [Bacillus atrophaeus] >gb|MCM3460726.1| competence protein ComS [Bacillus atrophaeus] >gb|MCY7948840.1| competence protein ComS [Bacillus atrophaeus] >gb|MCY8097868.1| competence protein ComS [Bacillus atrophaeus] >gb|MCY8487812.1| competence protein ComS [Bacillus atrophaeus]',\n",
       "  'length': 46,\n",
       "  'e_value': 8.11417e-17,\n",
       "  'identity': 80.43478260869566,\n",
       "  'alignment_length': 46},\n",
       " {'title': 'ref|WP_315917015.1| competence protein ComS [Bacillus atrophaeus] >gb|WNV81667.1| competence protein ComS [Bacillus atrophaeus]',\n",
       "  'length': 46,\n",
       "  'e_value': 3.57679e-16,\n",
       "  'identity': 78.26086956521739,\n",
       "  'alignment_length': 46},\n",
       " {'title': 'ref|WP_268521920.1| competence protein ComS [Bacillus atrophaeus] >gb|MCY8507742.1| competence protein ComS [Bacillus atrophaeus] >gb|MCY8952251.1| competence protein ComS [Bacillus atrophaeus] >gb|MCY8970022.1| competence protein ComS [Bacillus atrophaeus]',\n",
       "  'length': 46,\n",
       "  'e_value': 3.61631e-16,\n",
       "  'identity': 78.26086956521739,\n",
       "  'alignment_length': 46},\n",
       " {'title': 'ref|WP_231104944.1| competence protein ComS [Bacillus atrophaeus] >gb|WFE16054.1| competence protein ComS [Bacillus atrophaeus]',\n",
       "  'length': 46,\n",
       "  'e_value': 4.40721e-16,\n",
       "  'identity': 78.26086956521739,\n",
       "  'alignment_length': 46},\n",
       " {'title': 'ref|WP_268491413.1| competence protein ComS [Bacillus atrophaeus] >gb|MCY9109507.1| competence protein ComS [Bacillus atrophaeus] >gb|MCY9198445.1| competence protein ComS [Bacillus atrophaeus]',\n",
       "  'length': 46,\n",
       "  'e_value': 5.3711e-16,\n",
       "  'identity': 78.26086956521739,\n",
       "  'alignment_length': 46},\n",
       " {'title': 'ref|WP_268540621.1| competence protein ComS [Bacillus atrophaeus] >gb|MCY8817114.1| competence protein ComS [Bacillus atrophaeus]',\n",
       "  'length': 46,\n",
       "  'e_value': 3.47793e-15,\n",
       "  'identity': 76.08695652173914,\n",
       "  'alignment_length': 46},\n",
       " {'title': 'ref|WP_180800290.1| competence protein ComS, partial [Vibrio parahaemolyticus]',\n",
       "  'length': 32,\n",
       "  'e_value': 5.09044e-13,\n",
       "  'identity': 100.0,\n",
       "  'alignment_length': 32},\n",
       " {'title': 'gb|MCY9030907.1| competence protein ComS [Bacillus inaquosorum]',\n",
       "  'length': 28,\n",
       "  'e_value': 1.58295e-08,\n",
       "  'identity': 96.42857142857143,\n",
       "  'alignment_length': 28},\n",
       " {'title': 'gb|MCY8463112.1| competence protein ComS [Bacillus spizizenii]',\n",
       "  'length': 20,\n",
       "  'e_value': 6.60904e-05,\n",
       "  'identity': 100.0,\n",
       "  'alignment_length': 20}]"
      ]
     },
     "execution_count": 6,
     "metadata": {},
     "output_type": "execute_result"
    }
   ],
   "source": [
    "parse_blast_results(\"blast_output/comS_protein.xml\", exclude=[\"subtilis\"], e_value_thresh=0.05, identity_thresh=70)"
   ]
  },
  {
   "cell_type": "markdown",
   "metadata": {},
   "source": [
    "### Alinhamento múltiplo e filogenia"
   ]
  },
  {
   "cell_type": "markdown",
   "metadata": {},
   "source": [
    "Função de extract de sequências"
   ]
  },
  {
   "cell_type": "code",
   "execution_count": 25,
   "metadata": {},
   "outputs": [],
   "source": [
    "def extract_sequences_from_blast(file_name, query_fasta, exclude=None, e_value_thresh=0.05, identity_thresh=90, n_seq=20, coverage_thresh=0.7):\n",
    "    \"\"\"\n",
    "    Extracts sequences from BLAST results for alignment, using a query FASTA file.\n",
    "    \n",
    "    Args:\n",
    "        file_name (str): Path to the BLAST XML result file.\n",
    "        query_fasta (str): Path to the query sequence FASTA file.\n",
    "        exclude (list): List of species or keywords to exclude.\n",
    "        e_value_thresh (float): Threshold for E-value significance.\n",
    "        identity_thresh (float): Minimum percentage identity for significant hits.\n",
    "        n_seq (int): Maximum number of sequences to extract.\n",
    "        coverage_thresh (float): Minimum fraction of query sequence covered by the alignment (0 to 1).\n",
    "    \n",
    "    Returns:\n",
    "        dict: Dictionary with sequence titles as keys and sequences as values, including the query sequence.\n",
    "    \"\"\"\n",
    "    # Read the query sequence from the FASTA file\n",
    "    with open(query_fasta, \"r\") as fasta_handle:\n",
    "        query_record = SeqIO.read(fasta_handle, \"fasta\")\n",
    "        query_sequence = str(query_record.seq)\n",
    "    \n",
    "    if not query_sequence:\n",
    "        raise ValueError(\"Query sequence could not be read from the FASTA file.\")\n",
    "    \n",
    "    # Initialize the dictionary with the query sequence\n",
    "    sequences = {\"Query\": query_sequence}\n",
    "    added_species = set()  # To track species that are already added\n",
    "\n",
    "    # Parse the BLAST XML file\n",
    "    with open(file_name) as result_handle:\n",
    "        blast_record = NCBIXML.read(result_handle)\n",
    "\n",
    "    query_length = len(query_sequence)  # Length of the query sequence\n",
    "    \n",
    "    for alignment in blast_record.alignments:\n",
    "        # Check exclusion criteria\n",
    "        if exclude and any(term.lower() in alignment.title.lower() for term in exclude):\n",
    "            continue  # Skip this alignment if it matches exclusion criteria\n",
    "        \n",
    "        for hsp in alignment.hsps:\n",
    "            # Check E-value, identity, and coverage thresholds\n",
    "            if hsp.expect < e_value_thresh and (hsp.identities / hsp.align_length) * 100 > identity_thresh:\n",
    "                # Calculate coverage based on query_start and query_end\n",
    "                coverage = (hsp.query_end - hsp.query_start + 1) / query_length  # Coverage as fraction of query length\n",
    "                \n",
    "                if coverage >= coverage_thresh:  # Check if the coverage meets the threshold\n",
    "                    # Extract species name from the title\n",
    "                    title_parts = alignment.title.split(\"|\")[-1]  # Use the last part of the title\n",
    "                    species_name = title_parts.split(\"[\")[-1].split(\"]\")[0]  # Extract text within brackets\n",
    "                    # Only keep the first two words and replace the space with an underscore\n",
    "                    formatted_species_name = \"_\".join(species_name.split()[:2])\n",
    "\n",
    "                    # Add the second-to-last part of the title to the header (e.g., the accession code)\n",
    "                    sequence_header = f\"{formatted_species_name}|{alignment.title.split('|')[-2]}\"  # Adding accession or ID code\n",
    "                    \n",
    "                    # Add the sequence only if the species has not been added yet\n",
    "                    if formatted_species_name not in added_species:\n",
    "                        sequences[sequence_header] = hsp.sbjct\n",
    "                        added_species.add(formatted_species_name)  # Mark the species as added\n",
    "                        \n",
    "                        if len(sequences) >= n_seq:  # Stop if desired number of sequences is reached\n",
    "                            return sequences\n",
    "    \n",
    "    return sequences\n"
   ]
  },
  {
   "cell_type": "code",
   "execution_count": 26,
   "metadata": {},
   "outputs": [],
   "source": [
    "sequences_cds=extract_sequences_from_blast(\"blast_output/comS_cds.xml\", query_fasta=\"genes_cds/comS_cds.fasta\",\n",
    "                                        exclude=[\"subtilis\"], e_value_thresh=0.05, identity_thresh=90, coverage_thresh=0.7)"
   ]
  },
  {
   "cell_type": "code",
   "execution_count": 31,
   "metadata": {},
   "outputs": [],
   "source": [
    "sequences_prot=extract_sequences_from_blast(\"blast_output/comS_protein.xml\", query_fasta=\"proteins/comS_prot.fasta\",\n",
    "                                        exclude=[\"subtilis\"], e_value_thresh=0.05, identity_thresh=90, coverage_thresh=0.7)"
   ]
  },
  {
   "cell_type": "code",
   "execution_count": 28,
   "metadata": {},
   "outputs": [],
   "source": [
    "def save_to_fasta(sequences, output_file=\"sequences.fasta\", output_dir=\"homologs\"):\n",
    "    \"\"\"\n",
    "    Saves sequences to a FASTA file, with species names as headers.\n",
    "    \n",
    "    Args:\n",
    "        sequences (dict): Dictionary of sequences with species names as keys.\n",
    "        output_file (str): Name of the FASTA file.\n",
    "        output_dir (str): Directory to save the FASTA file.\n",
    "    \"\"\"\n",
    "    os.makedirs(output_dir, exist_ok=True)  # Create the directory if it doesn't exist\n",
    "    output_path = os.path.join(output_dir, output_file)  # Full path to the output file\n",
    "\n",
    "    # Create SeqRecord objects with species names as IDs\n",
    "    records = [SeqRecord(Seq(seq), id=species, description=\"\") for species, seq in sequences.items()]\n",
    "    SeqIO.write(records, output_path, \"fasta\")\n",
    "    print(f\"Sequences saved to {output_path}.\")"
   ]
  },
  {
   "cell_type": "code",
   "execution_count": 29,
   "metadata": {},
   "outputs": [
    {
     "name": "stdout",
     "output_type": "stream",
     "text": [
      "Sequences saved to homologs\\comS_cds_homologs.fasta.\n"
     ]
    }
   ],
   "source": [
    "save_to_fasta(sequences_cds, \"comS_cds_homologs.fasta\")"
   ]
  },
  {
   "cell_type": "code",
   "execution_count": 30,
   "metadata": {},
   "outputs": [
    {
     "name": "stdout",
     "output_type": "stream",
     "text": [
      "Sequences saved to homologs\\comS_prot_homologs.fasta.\n"
     ]
    }
   ],
   "source": [
    "save_to_fasta(sequences_prot, \"comS_prot_homologs.fasta\")"
   ]
  },
  {
   "cell_type": "code",
   "execution_count": 55,
   "metadata": {},
   "outputs": [],
   "source": [
    "def run_clustalO(input_file, output_file=\"aligned_sequences.aln\", output_dir=\"clustal_output\"):\n",
    "    \"\"\"\n",
    "    Runs Clustal Omega for multiple sequence alignment.\n",
    "    \n",
    "    Args:\n",
    "        input_file (str): Path to the input FASTA file.\n",
    "        output_file (str): Name of the output alignment file.\n",
    "        output_dir (str): Directory to save the alignment result.\n",
    "    \n",
    "    Returns:\n",
    "        str: Full path to the output alignment file.\n",
    "    \"\"\"\n",
    "    os.makedirs(output_dir, exist_ok=True)  # Create the directory if it doesn't exist\n",
    "    output_path = os.path.join(output_dir, output_file)  # Full path to the output file\n",
    "\n",
    "    clustalo_exe = \"clustal-omega-1.2.2-win64\\\\clustalo\"  # Path to Clustal Omega executable\n",
    "\n",
    "    # Command to run Clustal Omega\n",
    "    command = [\n",
    "        clustalo_exe,\n",
    "        \"--infile\", input_file,\n",
    "        \"--outfile\", output_path,\n",
    "        \"--outfmt\", \"clu\",  # Output format: Clustal\n",
    "        \"--force\"  # Overwrite existing files if necessary\n",
    "    ]\n",
    "\n",
    "    try:\n",
    "        # Run the command\n",
    "        result = subprocess.run(command, capture_output=True, text=True, check=True)\n",
    "        print(\"Clustal Omega alignment completed successfully.\")\n",
    "        print(result.stdout)\n",
    "        return output_path\n",
    "    except subprocess.CalledProcessError as e:\n",
    "        print(\"Error during Clustal Omega execution:\")\n",
    "        print(e.stderr)\n",
    "        raise\n",
    "\n"
   ]
  },
  {
   "cell_type": "code",
   "execution_count": 56,
   "metadata": {},
   "outputs": [
    {
     "name": "stdout",
     "output_type": "stream",
     "text": [
      "Clustal Omega alignment completed successfully.\n",
      "\n"
     ]
    }
   ],
   "source": [
    "aligned_file = run_clustalO(input_file=\"homologs/comS_homologs.fasta\", output_file=\"comS.aln\", output_dir=\"clustal_output\")"
   ]
  },
  {
   "cell_type": "markdown",
   "metadata": {},
   "source": [
    "Função para costrução de árvores apartir do output do clustalOmega"
   ]
  },
  {
   "cell_type": "code",
   "execution_count": 57,
   "metadata": {},
   "outputs": [],
   "source": [
    "def build_trees(file_name, file_type, matrix=\"blosum62\", output_dir=\"tree_output\"):\n",
    "    \"\"\"\n",
    "    Builds phylogenetic trees (UPGMA and NJ) from a sequence alignment file.\n",
    "    \n",
    "    Args:\n",
    "        file_name (str): Path to the input alignment file.\n",
    "        file_type (str): Format of the input alignment file (e.g., \"clustal\", \"fasta\").\n",
    "        matrix (str): Scoring matrix for distance calculation (default: \"blosum62\").\n",
    "        output_dir (str): Directory to save intermediate files and outputs (default: \"tree_output\").\n",
    "    \n",
    "    Returns:\n",
    "        None: Displays the trees as ASCII diagrams in the console.\n",
    "    \"\"\"\n",
    "    # Ensure the output directory exists\n",
    "    os.makedirs(output_dir, exist_ok=True)\n",
    "\n",
    "    try:\n",
    "        # Read the alignment file\n",
    "        alignment = AlignIO.read(file_name, file_type)\n",
    "        \n",
    "        # Save the alignment in Stockholm format for reference\n",
    "        stockholm_file = os.path.join(output_dir, \"alignment.sth\")\n",
    "        AlignIO.write(alignment, stockholm_file, \"stockholm\")\n",
    "        print(f\"Alignment saved in Stockholm format at: {stockholm_file}\")\n",
    "\n",
    "        # Calculate pairwise distances\n",
    "        calculator = DistanceCalculator(matrix)\n",
    "        dm = calculator.get_distance(alignment)\n",
    "        \n",
    "        # Construct trees using UPGMA and NJ methods\n",
    "        constructor = DistanceTreeConstructor()\n",
    "        upgma_tree = constructor.upgma(dm)\n",
    "        nj_tree = constructor.nj(dm)\n",
    "\n",
    "        # Display trees as ASCII\n",
    "        print(\"Neighbor-Joining Tree:\")\n",
    "        Phylo.draw_ascii(nj_tree, column_width=120)\n",
    "        print(\"-\" * 50)\n",
    "        print(\"UPGMA Tree:\")\n",
    "        Phylo.draw_ascii(upgma_tree, column_width=120)\n",
    "\n",
    "    except Exception as e:\n",
    "        print(f\"An error occurred: {e}\")"
   ]
  },
  {
   "cell_type": "code",
   "execution_count": 58,
   "metadata": {},
   "outputs": [
    {
     "name": "stdout",
     "output_type": "stream",
     "text": [
      "Alignment saved in Stockholm format at: tree_output\\alignment.sth\n",
      "Neighbor-Joining Tree:\n",
      "                         ___ Query\n",
      "  ______________________|\n",
      " |                      |__ Bacillus_sp.\n",
      " |\n",
      "_|                                    , Bacillus_velezensis\n",
      " |____________________________________|\n",
      " |                                    | Bacillus_amyloliquefaciens\n",
      " |\n",
      " |_________________________________________________________________________________________ Bacillus_licheniformis\n",
      "\n",
      "--------------------------------------------------\n",
      "UPGMA Tree:\n",
      "  ____________________________________________________________ Bacillus_licheniformis\n",
      " |\n",
      "_|                                                                                         , Bacillus_velezensis\n",
      " |                                                         ________________________________|\n",
      " |                                                        |                                | Bacillus_amyloliquefaciens\n",
      " |________________________________________________________|\n",
      "                                                          |                             ___ Bacillus_sp.\n",
      "                                                          |____________________________|\n",
      "                                                                                       |___ Query\n",
      "\n"
     ]
    }
   ],
   "source": [
    "build_trees(\n",
    "    file_name=\"clustal_output/comS.aln\",\n",
    "    file_type=\"clustal\",\n",
    "    matrix=\"blosum62\",\n",
    "    output_dir=\"tree_output\"\n",
    ")"
   ]
  },
  {
   "cell_type": "markdown",
   "metadata": {},
   "source": [
    "Função para ver a regulação"
   ]
  },
  {
   "cell_type": "code",
   "execution_count": 97,
   "metadata": {},
   "outputs": [],
   "source": [
    "def get_regulatory_proteins(gene_id):\n",
    "    \"\"\"\n",
    "    Fetches regulatory annotations for a gene from UniProt.\n",
    "    \n",
    "    Args:\n",
    "        gene_id (str): UniProt ID of the gene.\n",
    "    \n",
    "    Returns:\n",
    "        list: List of regulatory interactions.\n",
    "    \"\"\"\n",
    "    handle = ExPASy.get_sprot_raw(gene_id)\n",
    "    record = SwissProt.read(handle)\n",
    "    regulatory_info = []\n",
    "    for comment in record.comments:\n",
    "        if \"regulation\" in comment.lower():\n",
    "            regulatory_info.append(comment)\n",
    "    if not regulatory_info:\n",
    "        return \"Regulatory Info not found\"\n",
    "    return regulatory_info"
   ]
  },
  {
   "cell_type": "code",
   "execution_count": 98,
   "metadata": {},
   "outputs": [
    {
     "name": "stdout",
     "output_type": "stream",
     "text": [
      "Regulatory Info not found\n"
     ]
    }
   ],
   "source": [
    "gene_id = \"P80355\"  # Example UniProt ID\n",
    "regulation_data = get_regulatory_proteins(gene_id)\n",
    "print(regulation_data)"
   ]
  },
  {
   "cell_type": "markdown",
   "metadata": {},
   "source": [
    "Função para identificar variantes"
   ]
  },
  {
   "cell_type": "code",
   "execution_count": 72,
   "metadata": {},
   "outputs": [],
   "source": [
    "def fetch_variants_from_dbSNP(gene_id):\n",
    "    \"\"\"\n",
    "    Fetches variant information for a gene from dbSNP via NCBI Entrez.\n",
    "    \n",
    "    Args:\n",
    "        gene_id (str): The Gene ID of the gene of interest.\n",
    "    \n",
    "    Returns:\n",
    "        str: Raw data from dbSNP related to the gene.\n",
    "    \"\"\"\n",
    "    Entrez.email = \"your_email@example.com\"\n",
    "    handle = Entrez.esearch(db=\"snp\", term=f\"{gene_id}[Gene ID]\")\n",
    "    record = Entrez.read(handle)\n",
    "    handle.close()\n",
    "\n",
    "    # Fetch variant data\n",
    "    snp_ids = record[\"IdList\"]\n",
    "    if not snp_ids:\n",
    "        return \"No variants found for this gene.\"\n",
    "    \n",
    "    handle = Entrez.efetch(db=\"snp\", id=\",\".join(snp_ids), rettype=\"xml\", retmode=\"text\")\n",
    "    data = handle.read()\n",
    "    handle.close()\n",
    "    return data"
   ]
  },
  {
   "cell_type": "code",
   "execution_count": 74,
   "metadata": {},
   "outputs": [
    {
     "name": "stdout",
     "output_type": "stream",
     "text": [
      "No variants found for this gene.\n"
     ]
    }
   ],
   "source": [
    "gene_id = \"938310\" \n",
    "variants = fetch_variants_from_dbSNP(gene_id)\n",
    "print(variants)"
   ]
  }
 ],
 "metadata": {
  "kernelspec": {
   "display_name": "labs",
   "language": "python",
   "name": "python3"
  },
  "language_info": {
   "codemirror_mode": {
    "name": "ipython",
    "version": 3
   },
   "file_extension": ".py",
   "mimetype": "text/x-python",
   "name": "python",
   "nbconvert_exporter": "python",
   "pygments_lexer": "ipython3",
   "version": "3.10.15"
  }
 },
 "nbformat": 4,
 "nbformat_minor": 2
}
