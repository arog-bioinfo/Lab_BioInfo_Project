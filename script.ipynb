{
 "cells": [
  {
   "cell_type": "markdown",
   "metadata": {},
   "source": [
    "Esta é uma script em jupyter para fazer pequenas funções e depois passar para a script em python."
   ]
  },
  {
   "cell_type": "code",
   "execution_count": 3,
   "metadata": {},
   "outputs": [],
   "source": [
    "#Dar import a packages\n",
    "from Bio import SeqIO, SeqFeature\n",
    "from Bio.Seq import Seq\n",
    "from Bio.SeqRecord import SeqRecord\n",
    "from Bio.Blast import NCBIXML, NCBIWWW "
   ]
  },
  {
   "cell_type": "markdown",
   "metadata": {},
   "source": [
    "Função para fazer um NCBI blast apartir de um file (pode-se escolher o tipo de blast, database e outros parâmetros)"
   ]
  },
  {
   "cell_type": "code",
   "execution_count": 20,
   "metadata": {},
   "outputs": [],
   "source": [
    "def blast(file_name, file_format = \"fasta\", program = \"blastn\", database = \"nt\", e_value = 0.05, hitlist_size = 50):\n",
    "    \"\"\"\n",
    "    Realiza o BLAST de uma sequência contida em um arquivo.\n",
    "    \n",
    "    Parameters:\n",
    "        file_name (str): Nome do arquivo contendo a sequência.\n",
    "        file_format (str): Formato do arquivo (padrão: 'fasta').\n",
    "        program (str): Programa BLAST a ser usado (padrão: 'blastn').\n",
    "        database (str): Banco de dados para busca (padrão: 'nt').\n",
    "        e_value (float): Limite de valor E para busca (padrão: 0.05).\n",
    "        hitlist_size (int): Número de hits a serem retornados (padrão: 50).\n",
    "    \n",
    "    Returns:\n",
    "        Um handle com os resultados do BLAST, ou None em caso de erro.\n",
    "    \"\"\"\n",
    "    \n",
    "    try:\n",
    "        #lê o arquivo\n",
    "        record = SeqIO.read(open(file_name), format = file_format)\n",
    "\n",
    "        #Começa o blast remoto\n",
    "        print(\"BLASTing...\")\n",
    "        result_handle = NCBIWWW.qblast(program, database, record.format(\"fasta\"), expect = e_value, hitlist_size = 50)\n",
    "\n",
    "        #returns result handle\n",
    "        print(\"BLAST concluído com sucesso.\")\n",
    "        return result_handle\n",
    "    \n",
    "    except Exception as e:\n",
    "        print(f\"Erro ao executar o BLAST: {e}\")\n",
    "        return None"
   ]
  },
  {
   "cell_type": "markdown",
   "metadata": {},
   "source": [
    "Função que utiliza função blast, mas guardar o output num file."
   ]
  },
  {
   "cell_type": "code",
   "execution_count": 19,
   "metadata": {},
   "outputs": [],
   "source": [
    "def get_blast(file_name, output_name = \"blast_result\", file_format = \"fasta\", program = \"blastn\", database = \"nt\", e_value = 0.05, hitlist_size = 50):\n",
    "    \"\"\"\n",
    "    Realiza o BLAST usando a função `blast` e salva os resultados em um arquivo.\n",
    "    \n",
    "    Parameters:\n",
    "        file_name (str): Nome do arquivo contendo a sequência.\n",
    "        output_name (str): Nome do arquivo para salvar os resultados.\n",
    "        Outros parâmetros são os mesmos da função `blast`.\n",
    "    \"\"\"\n",
    "\n",
    "    result_handle = blast(file_name, file_format, program, database, e_value, hitlist_size)\n",
    "\n",
    "    if result_handle is not None:\n",
    "        try:\n",
    "            # Salva os resultados em um arquivo XML\n",
    "            with open(f\"{output_name}.xml\", \"w\") as save_file:\n",
    "                save_file.write(result_handle.read())\n",
    "                print(f\"Resultados salvos em {output_name}.xml.\")\n",
    "\n",
    "        except Exception as e:\n",
    "            print(f\"Erro ao salvar os resultados: {e}\")\n",
    "\n",
    "        finally:\n",
    "            result_handle.close()\n",
    "    "
   ]
  },
  {
   "cell_type": "markdown",
   "metadata": {},
   "source": [
    "Teste da função *get_blast* e *blast*"
   ]
  },
  {
   "cell_type": "code",
   "execution_count": null,
   "metadata": {},
   "outputs": [
    {
     "name": "stdout",
     "output_type": "stream",
     "text": [
      "BLASTing...\n",
      "BLAST concluído com sucesso.\n",
      "Resultados salvos em comS.xml.\n"
     ]
    }
   ],
   "source": [
    "get_blast(\"genes_fasta/comS.fasta\", output_name =\"comS\")"
   ]
  }
 ],
 "metadata": {
  "kernelspec": {
   "display_name": "labs",
   "language": "python",
   "name": "python3"
  },
  "language_info": {
   "codemirror_mode": {
    "name": "ipython",
    "version": 3
   },
   "file_extension": ".py",
   "mimetype": "text/x-python",
   "name": "python",
   "nbconvert_exporter": "python",
   "pygments_lexer": "ipython3",
   "version": "3.10.15"
  }
 },
 "nbformat": 4,
 "nbformat_minor": 2
}
