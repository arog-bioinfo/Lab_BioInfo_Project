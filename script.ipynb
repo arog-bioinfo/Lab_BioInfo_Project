{
 "cells": [
  {
   "cell_type": "markdown",
   "metadata": {},
   "source": [
    "Esta é uma script em jupyter para fazer pequenas funções e depois passar para a script em python."
   ]
  },
  {
   "cell_type": "code",
   "execution_count": 2,
   "metadata": {},
   "outputs": [
    {
     "name": "stderr",
     "output_type": "stream",
     "text": [
      "c:\\Users\\arafa\\miniconda3\\envs\\labs\\lib\\site-packages\\Bio\\Application\\__init__.py:39: BiopythonDeprecationWarning: The Bio.Application modules and modules relying on it have been deprecated.\n",
      "\n",
      "Due to the on going maintenance burden of keeping command line application\n",
      "wrappers up to date, we have decided to deprecate and eventually remove these\n",
      "modules.\n",
      "\n",
      "We instead now recommend building your command line and invoking it directly\n",
      "with the subprocess module.\n",
      "  warnings.warn(\n"
     ]
    }
   ],
   "source": [
    "import os\n",
    "import subprocess\n",
    "from Bio import SeqIO, SeqFeature, Entrez, AlignIO, ExPASy, SwissProt\n",
    "from Bio.Seq import Seq\n",
    "from Bio.SeqRecord import SeqRecord\n",
    "from Bio.Blast import NCBIXML, NCBIWWW\n",
    "from Bio.Align.Applications import ClustalwCommandline\n",
    "from Bio.Phylo.TreeConstruction import DistanceTreeConstructor, DistanceCalculator\n",
    "from Bio import Phylo"
   ]
  },
  {
   "cell_type": "markdown",
   "metadata": {},
   "source": [
    "### Análise da sequência e das features presentes no NCBI"
   ]
  },
  {
   "cell_type": "markdown",
   "metadata": {},
   "source": [
    "Funtion to get gene genbank file"
   ]
  },
  {
   "cell_type": "code",
   "execution_count": 3,
   "metadata": {},
   "outputs": [],
   "source": [
    "def get_seq(accession, filename, db, rettype, email=\"your_email@example.com\", output_dir=\"output\"):\n",
    "    \"\"\"\n",
    "    Fetches a sequence from NCBI and saves it to a file in the specified output directory.\n",
    "    \n",
    "    Args:\n",
    "        accession (str): NCBI Accession or ID.\n",
    "        filename (str): File name to save the sequence.\n",
    "        db (str): NCBI database to query (e.g., \"nucleotide\", \"protein\").\n",
    "        rettype (str): Format of the returned sequence (e.g., \"fasta\", \"gb\").\n",
    "        email (str): User's email for NCBI access.\n",
    "        output_dir (str): Directory where the file will be saved.\n",
    "    \n",
    "    Returns:\n",
    "        str: Full path to the saved file.\n",
    "    \"\"\"\n",
    "    Entrez.email = email\n",
    "    os.makedirs(output_dir, exist_ok=True)  # Ensure output directory exists\n",
    "    output_path = os.path.join(output_dir, filename)  # Full path to save file\n",
    "\n",
    "    try:\n",
    "        print(f\"Fetching data for accession: {accession} from {db} database...\")\n",
    "        handle = Entrez.efetch(db=db, id=accession, rettype=rettype, retmode=\"text\")\n",
    "        sequence_data = handle.read()\n",
    "        handle.close()\n",
    "\n",
    "        # Save the sequence to the output file\n",
    "        with open(output_path, \"w\") as file:\n",
    "            file.write(sequence_data)\n",
    "        print(f\"Sequence saved successfully to {output_path}.\")\n",
    "        return output_path\n",
    "\n",
    "    except Exception as e:\n",
    "        print(f\"An error occurred: {e}\")\n",
    "        return None\n"
   ]
  },
  {
   "cell_type": "code",
   "execution_count": null,
   "metadata": {},
   "outputs": [
    {
     "name": "stdout",
     "output_type": "stream",
     "text": [
      "Fetching data for accession: NC_000964.3 from nucleotide database...\n",
      "Sequence saved successfully to Genome\\genome.gb.\n"
     ]
    },
    {
     "data": {
      "text/plain": [
       "'Genome\\\\genome.gb'"
      ]
     },
     "execution_count": 4,
     "metadata": {},
     "output_type": "execute_result"
    }
   ],
   "source": [
    "get_seq(\"NC_000964.3\", db=\"nucleotide\",rettype=\"gbwithparts\", filename = \"genome.gb\", output_dir=\"genome\")"
   ]
  },
  {
   "cell_type": "markdown",
   "metadata": {},
   "source": [
    "Funtion to extract detailed gene info from genbank complete genome file"
   ]
  },
  {
   "cell_type": "code",
   "execution_count": 5,
   "metadata": {},
   "outputs": [],
   "source": [
    "def extract_detailed_gene_info(filename, gene_name):\n",
    "    \"\"\"\n",
    "    Extracts detailed information for a specific gene or CDS from a GenBank file.\n",
    "    \n",
    "    Args:\n",
    "        filename (str): Path to the GenBank file.\n",
    "        gene_name (str): Name, locus tag, or product description of the gene or CDS.\n",
    "    \n",
    "    Prints:\n",
    "        Detailed information about the matching gene/CDS feature.\n",
    "    \"\"\"\n",
    "    try:\n",
    "        # Read the GenBank file\n",
    "        record = SeqIO.read(filename, \"genbank\")\n",
    "        \n",
    "        # Search for matching features\n",
    "        matches = []\n",
    "        for feature in record.features:\n",
    "            if feature.type == \"CDS\":\n",
    "                qualifiers = feature.qualifiers\n",
    "                if (\n",
    "                    \"gene\" in qualifiers and gene_name in qualifiers[\"gene\"]\n",
    "                    or \"locus_tag\" in qualifiers and gene_name in qualifiers[\"locus_tag\"]\n",
    "                    or \"product\" in qualifiers and gene_name in qualifiers[\"product\"]\n",
    "                ):\n",
    "                    matches.append(feature)\n",
    "        \n",
    "        if matches:\n",
    "            print(f\"Found {len(matches)} matching feature(s) for '{gene_name}':\\n\")\n",
    "            for i, feature in enumerate(matches, 1):\n",
    "                print(f\"Feature {i}: {feature.type}\")\n",
    "                print(f\"  Location: {feature.location}\")\n",
    "                for key, value in feature.qualifiers.items():\n",
    "                    # Qualifiers are lists, join values for readability\n",
    "                    print(f\"  {key.capitalize()}: {', '.join(value)}\")\n",
    "                print(\"\\n\")\n",
    "        else:\n",
    "            print(f\"No matching features found for '{gene_name}' in the GenBank file.\")\n",
    "    \n",
    "    except Exception as e:\n",
    "        print(f\"An error occurred: {e}\")\n"
   ]
  },
  {
   "cell_type": "code",
   "execution_count": 6,
   "metadata": {},
   "outputs": [
    {
     "name": "stdout",
     "output_type": "stream",
     "text": [
      "An error occurred: [Errno 2] No such file or directory: 'test/genome.gb'\n"
     ]
    }
   ],
   "source": [
    "extract_detailed_gene_info(\"test/genome.gb\", \"comS\")"
   ]
  },
  {
   "cell_type": "code",
   "execution_count": 7,
   "metadata": {},
   "outputs": [],
   "source": [
    "import os\n",
    "from Bio import SeqIO\n",
    "\n",
    "def extract_gene(\n",
    "    genome_file, \n",
    "    gene_name, \n",
    "    output_dir=\"extracted_seqs\",\n",
    "):\n",
    "    \"\"\"\n",
    "    Extracts a specific gene by name from a GenBank genome file and saves its DNA sequence and translation.\n",
    "    \n",
    "    Args:\n",
    "        genome_file (str): Path to the GenBank file containing the genome.\n",
    "        gene_name (str): Name of the gene to extract.\n",
    "        output_dir (str): Directory to save the output files.\n",
    "        dna_filename (str): Name of the DNA output FASTA file.\n",
    "        protein_filename (str): Name of the protein output FASTA file.\n",
    "    \n",
    "    Returns:\n",
    "        None\n",
    "    \"\"\"\n",
    "    try:\n",
    "        # Ensure the output directory exists\n",
    "        os.makedirs(output_dir, exist_ok=True)\n",
    "        \n",
    "        # Define full paths for the output files\n",
    "        dna_output_path = os.path.join(output_dir, gene_name + \"_dna.fasta\")\n",
    "        protein_output_path = os.path.join(output_dir, gene_name + \"_protein.fasta\")\n",
    "        \n",
    "        # Parse the GenBank file\n",
    "        with open(genome_file, \"r\") as gb_file:\n",
    "            genome_record = SeqIO.read(gb_file, \"genbank\")\n",
    "        \n",
    "        # Search for the gene in the genome annotations\n",
    "        for feature in genome_record.features:\n",
    "            if feature.type == \"CDS\" and \"gene\" in feature.qualifiers:\n",
    "                if gene_name in feature.qualifiers[\"gene\"]:\n",
    "                    # Extract the gene sequence\n",
    "                    gene_seq = feature.extract(genome_record.seq)\n",
    "                    \n",
    "                    # Extract the protein translation, if available\n",
    "                    protein_translation = feature.qualifiers.get(\"translation\", [None])[0]\n",
    "                    \n",
    "                    # Write the DNA sequence to the DNA FASTA file\n",
    "                    with open(dna_output_path, \"w\") as dna_file:\n",
    "                        dna_file.write(f\">{gene_name} [NC_000964.3] DNA sequence\\n{gene_seq}\\n\")\n",
    "                    print(f\"{gene_name} DNA sequence saved to {dna_output_path}.\")\n",
    "                    \n",
    "                    # Write the protein translation to the protein FASTA file\n",
    "                    if protein_translation:\n",
    "                        with open(protein_output_path, \"w\") as protein_file:\n",
    "                            protein_file.write(f\">{gene_name} [NC_000964.3] Protein translation\\n{protein_translation}\\n\")\n",
    "                        print(f\"{gene_name} protein translation saved to {protein_output_path}.\")\n",
    "                    else:\n",
    "                        print(f\"No protein translation available for {gene_name}.\")\n",
    "                    \n",
    "                    return\n",
    "        \n",
    "        print(f\"Gene {gene_name} not found in the genome.\")\n",
    "    \n",
    "    except Exception as e:\n",
    "        print(f\"An error occurred: {e}\")\n"
   ]
  },
  {
   "cell_type": "code",
   "execution_count": 8,
   "metadata": {},
   "outputs": [
    {
     "name": "stdout",
     "output_type": "stream",
     "text": [
      "comS DNA sequence saved to extracted_seqs\\comS_dna.fasta.\n",
      "comS protein translation saved to extracted_seqs\\comS_protein.fasta.\n"
     ]
    }
   ],
   "source": [
    "extract_gene(genome_file=\"Genome/genome.gb\", gene_name=\"comS\")"
   ]
  },
  {
   "cell_type": "markdown",
   "metadata": {},
   "source": [
    "### Análise de homologias por BLAST"
   ]
  },
  {
   "cell_type": "markdown",
   "metadata": {},
   "source": [
    "Função para fazer um NCBI blast apartir de um file (pode-se escolher o tipo de blast, database e outros parâmetros)"
   ]
  },
  {
   "cell_type": "code",
   "execution_count": 9,
   "metadata": {},
   "outputs": [],
   "source": [
    "def blast(file_name, file_format = \"fasta\", program = \"blastn\", database = \"nt\", e_value = 0.05, hitlist_size = 100):\n",
    "    \"\"\"\n",
    "    Performs a BLAST search for a sequence contained in a file.\n",
    "    \n",
    "    Parameters:\n",
    "        file_name (str): Name of the file containing the sequence.\n",
    "        file_format (str): Format of the file (default: 'fasta').\n",
    "        program (str): BLAST program to use (default: 'blastn').\n",
    "        database (str): Database to search (default: 'nt').\n",
    "        e_value (float): E-value threshold for the search (default: 0.05).\n",
    "        hitlist_size (int): Number of hits to return (default: 100).\n",
    "    \n",
    "    Returns:\n",
    "        A handle with the BLAST results, or None in case of an error.\n",
    "    \"\"\"\n",
    "\n",
    "    try:\n",
    "        # Open the sequence file and read it using Biopython\n",
    "        record = SeqIO.read(open(file_name), format=file_format)\n",
    "\n",
    "        print(\"BLASTing...\")\n",
    "        # Perform the BLAST search using NCBIWWW.qblast\n",
    "        result_handle = NCBIWWW.qblast(program, database, record.format(\"fasta\"), expect=e_value, hitlist_size=hitlist_size)\n",
    "\n",
    "        # Print success message and return the BLAST results handle\n",
    "        print(\"BLAST completed successfully.\")\n",
    "        return result_handle\n",
    "\n",
    "    except Exception as e:\n",
    "        # Catch any exceptions and print an error message\n",
    "        print(f\"Error running BLAST: {e}\")\n",
    "        return None"
   ]
  },
  {
   "cell_type": "markdown",
   "metadata": {},
   "source": [
    "Função que utiliza função blast, mas guardar o output num file."
   ]
  },
  {
   "cell_type": "code",
   "execution_count": 10,
   "metadata": {},
   "outputs": [],
   "source": [
    "def get_blast(file_name, output_name=\"blast_result\", output_dir=\"blast_output\", file_format=\"fasta\", program=\"blastn\", database=\"nt\", e_value=0.05, hitlist_size=100):\n",
    "    \"\"\"\n",
    "    Performs a BLAST search using the `blast` function and saves the results to a file.\n",
    "    \n",
    "    Parameters:\n",
    "        file_name (str): Name of the file containing the sequence.\n",
    "        output_name (str): Name of the file to save the results.\n",
    "        Other parameters are the same as those in the `blast` function.\n",
    "    \"\"\"\n",
    "    os.makedirs(output_dir, exist_ok=True)  # Create the directory if it doesn't exist\n",
    "    output_path = os.path.join(output_dir, output_name)  # Full path to the output file\n",
    "\n",
    "    result_handle = blast(file_name, file_format, program, database, e_value, hitlist_size)\n",
    "\n",
    "    if result_handle is not None:\n",
    "        try:\n",
    "            # Save the results to an XML file\n",
    "            with open(f\"{output_path}.xml\", \"w\") as save_file:\n",
    "                save_file.write(result_handle.read())\n",
    "                print(f\"Results saved to {output_name}.xml.\")\n",
    "\n",
    "        except Exception as e:\n",
    "            print(f\"Error saving the results: {e}\")\n",
    "\n",
    "        finally:\n",
    "            result_handle.close()\n",
    "\n",
    "    "
   ]
  },
  {
   "cell_type": "markdown",
   "metadata": {},
   "source": [
    "Teste da função *get_blast* "
   ]
  },
  {
   "cell_type": "code",
   "execution_count": 11,
   "metadata": {},
   "outputs": [
    {
     "name": "stdout",
     "output_type": "stream",
     "text": [
      "BLASTing...\n",
      "BLAST completed successfully.\n",
      "Results saved to comS_dna.xml.\n"
     ]
    }
   ],
   "source": [
    "get_blast(\"extracted_seqs/comS_dna.fasta\", output_name =\"comS_dna\", hitlist_size=10000)"
   ]
  },
  {
   "cell_type": "code",
   "execution_count": 12,
   "metadata": {},
   "outputs": [
    {
     "name": "stdout",
     "output_type": "stream",
     "text": [
      "BLASTing...\n",
      "BLAST completed successfully.\n",
      "Results saved to comS_protein.xml.\n"
     ]
    }
   ],
   "source": [
    "get_blast(\"extracted_seqs/comS_protein.fasta\", output_name =\"comS_protein\",program = \"blastp\", database = \"nr\", hitlist_size=10000)"
   ]
  },
  {
   "cell_type": "markdown",
   "metadata": {},
   "source": [
    "Função de extract de sequências"
   ]
  },
  {
   "cell_type": "code",
   "execution_count": 13,
   "metadata": {},
   "outputs": [],
   "source": [
    "def extract_sequences_from_blast(file_name, query_fasta, exclude=None, e_value_thresh=0.05, identity_thresh=90, n_seq=20, coverage_thresh=0.7):\n",
    "    \"\"\"\n",
    "    Extracts sequences from BLAST results for alignment, using a query FASTA file.\n",
    "    \n",
    "    Args:\n",
    "        file_name (str): Path to the BLAST XML result file.\n",
    "        query_fasta (str): Path to the query sequence FASTA file.\n",
    "        exclude (list): List of species or keywords to exclude.\n",
    "        e_value_thresh (float): Threshold for E-value significance.\n",
    "        identity_thresh (float): Minimum percentage identity for significant hits.\n",
    "        n_seq (int): Maximum number of sequences to extract.\n",
    "        coverage_thresh (float): Minimum fraction of query sequence covered by the alignment (0 to 1).\n",
    "    \n",
    "    Returns:\n",
    "        dict: Dictionary with sequence titles as keys and sequences as values, including the query sequence.\n",
    "    \"\"\"\n",
    "    # Read the query sequence from the FASTA file\n",
    "    with open(query_fasta, \"r\") as fasta_handle:\n",
    "        query_record = SeqIO.read(fasta_handle, \"fasta\")\n",
    "        query_sequence = str(query_record.seq)\n",
    "    \n",
    "    if not query_sequence:\n",
    "        raise ValueError(\"Query sequence could not be read from the FASTA file.\")\n",
    "    \n",
    "    # Initialize the dictionary with the query sequence\n",
    "    sequences = {\"Query\": query_sequence}\n",
    "    added_species = set()  # To track species that are already added\n",
    "\n",
    "    # Parse the BLAST XML file\n",
    "    with open(file_name) as result_handle:\n",
    "        blast_record = NCBIXML.read(result_handle)\n",
    "\n",
    "    query_length = len(query_sequence)  # Length of the query sequence\n",
    "    \n",
    "    for alignment in blast_record.alignments:\n",
    "        # Check exclusion criteria\n",
    "        if exclude and any(term.lower() in alignment.title.lower() for term in exclude):\n",
    "            continue  # Skip this alignment if it matches exclusion criteria\n",
    "        \n",
    "        for hsp in alignment.hsps:\n",
    "            # Check E-value, identity, and coverage thresholds\n",
    "            if hsp.expect < e_value_thresh and (hsp.identities / hsp.align_length) * 100 > identity_thresh:\n",
    "                # Calculate coverage based on query_start and query_end\n",
    "                coverage = (hsp.query_end - hsp.query_start + 1) / query_length  # Coverage as fraction of query length\n",
    "                \n",
    "                if coverage >= coverage_thresh:  # Check if the coverage meets the threshold\n",
    "                    # Extract species name from the title\n",
    "                    title_parts = alignment.title.split(\"|\")[-1]  # Use the last part of the title\n",
    "                    species_name = title_parts.split(\"[\")[-1].split(\"]\")[0]  # Extract text within brackets\n",
    "                    # Only keep the first two words and replace the space with an underscore\n",
    "                    formatted_species_name = \"_\".join(species_name.split()[:2])\n",
    "\n",
    "                    # Add the second-to-last part of the title to the header (e.g., the accession code)\n",
    "                    sequence_header = f\"{formatted_species_name}|{alignment.title.split('|')[-2]}\"  # Adding accession or ID code\n",
    "                    \n",
    "                    # Add the sequence only if the species has not been added yet\n",
    "                    if formatted_species_name not in added_species:\n",
    "                        sequences[sequence_header] = hsp.sbjct\n",
    "                        added_species.add(formatted_species_name)  # Mark the species as added\n",
    "                        \n",
    "                        if len(sequences) >= n_seq:  # Stop if desired number of sequences is reached\n",
    "                            return sequences\n",
    "    \n",
    "    return sequences\n",
    "\n"
   ]
  },
  {
   "cell_type": "code",
   "execution_count": 15,
   "metadata": {},
   "outputs": [],
   "source": [
    "sequences_cds=extract_sequences_from_blast(\"blast_output/comS_dna.xml\", query_fasta=\"extracted_seqs/comS_dna.fasta\",\n",
    "                                        exclude=[\"subtilis\"], e_value_thresh=0.05, identity_thresh=90, coverage_thresh=0.7)"
   ]
  },
  {
   "cell_type": "code",
   "execution_count": 16,
   "metadata": {},
   "outputs": [],
   "source": [
    "sequences_prot=extract_sequences_from_blast(\"blast_output/comS_protein.xml\", query_fasta=\"extracted_seqs/comS_protein.fasta\",\n",
    "                                        exclude=[\"subtilis\"], e_value_thresh=0.05, identity_thresh=90, coverage_thresh=0.7)"
   ]
  },
  {
   "cell_type": "code",
   "execution_count": 17,
   "metadata": {},
   "outputs": [],
   "source": [
    "def save_to_fasta(sequences, output_file=\"sequences.fasta\", output_dir=\"homologs\"):\n",
    "    \"\"\"\n",
    "    Saves sequences to a FASTA file, with species names as headers.\n",
    "    \n",
    "    Args:\n",
    "        sequences (dict): Dictionary of sequences with species names as keys.\n",
    "        output_file (str): Name of the FASTA file.\n",
    "        output_dir (str): Directory to save the FASTA file.\n",
    "    \"\"\"\n",
    "    os.makedirs(output_dir, exist_ok=True)  # Create the directory if it doesn't exist\n",
    "    output_path = os.path.join(output_dir, output_file)  # Full path to the output file\n",
    "\n",
    "    # Create SeqRecord objects with species names as IDs\n",
    "    records = [SeqRecord(Seq(seq), id=species, description=\"\") for species, seq in sequences.items()]\n",
    "    SeqIO.write(records, output_path, \"fasta\")\n",
    "    print(f\"Sequences saved to {output_path}.\")"
   ]
  },
  {
   "cell_type": "code",
   "execution_count": 20,
   "metadata": {},
   "outputs": [
    {
     "name": "stdout",
     "output_type": "stream",
     "text": [
      "Sequences saved to homologs\\comS_dna_homologs.fasta.\n"
     ]
    }
   ],
   "source": [
    "save_to_fasta(sequences_cds, \"comS_dna_homologs.fasta\")"
   ]
  },
  {
   "cell_type": "code",
   "execution_count": 19,
   "metadata": {},
   "outputs": [
    {
     "name": "stdout",
     "output_type": "stream",
     "text": [
      "Sequences saved to homologs\\comS_prot_homologs.fasta.\n"
     ]
    }
   ],
   "source": [
    "save_to_fasta(sequences_prot, \"comS_prot_homologs.fasta\")"
   ]
  },
  {
   "cell_type": "markdown",
   "metadata": {},
   "source": [
    "### Alinhamento múltiplo e filogenia"
   ]
  },
  {
   "cell_type": "code",
   "execution_count": 22,
   "metadata": {},
   "outputs": [],
   "source": [
    "def run_clustalO(input_file, output_file=\"aligned_sequences.aln\", output_dir=\"clustal_output\"):\n",
    "    \"\"\"\n",
    "    Runs Clustal Omega for multiple sequence alignment.\n",
    "    \n",
    "    Args:\n",
    "        input_file (str): Path to the input FASTA file.\n",
    "        output_file (str): Name of the output alignment file.\n",
    "        output_dir (str): Directory to save the alignment result.\n",
    "    \n",
    "    Returns:\n",
    "        str: Full path to the output alignment file.\n",
    "    \"\"\"\n",
    "    os.makedirs(output_dir, exist_ok=True)  # Create the directory if it doesn't exist\n",
    "    output_path = os.path.join(output_dir, output_file)  # Full path to the output file\n",
    "\n",
    "    clustalo_exe = \"clustal-omega-1.2.2-win64\\\\clustalo\"  # Path to Clustal Omega executable\n",
    "\n",
    "    # Command to run Clustal Omega\n",
    "    command = [\n",
    "        clustalo_exe,\n",
    "        \"--infile\", input_file,\n",
    "        \"--outfile\", output_path,\n",
    "        \"--outfmt\", \"clu\",  # Output format: Clustal\n",
    "        \"--force\"  # Overwrite existing files if necessary\n",
    "    ]\n",
    "\n",
    "    try:\n",
    "        # Run the command\n",
    "        result = subprocess.run(command, capture_output=True, text=True, check=True)\n",
    "        print(\"Clustal Omega alignment completed successfully.\")\n",
    "        print(result.stdout)\n",
    "        return output_path\n",
    "    except subprocess.CalledProcessError as e:\n",
    "        print(\"Error during Clustal Omega execution:\")\n",
    "        print(e.stderr)\n",
    "        raise\n",
    "\n"
   ]
  },
  {
   "cell_type": "code",
   "execution_count": 29,
   "metadata": {},
   "outputs": [
    {
     "name": "stdout",
     "output_type": "stream",
     "text": [
      "Clustal Omega alignment completed successfully.\n",
      "\n"
     ]
    }
   ],
   "source": [
    "aligned_file = run_clustalO(input_file=\"homologs/comS_dna_homologs.fasta\", output_file=\"comS_dna.aln\", output_dir=\"clustal_output\")"
   ]
  },
  {
   "cell_type": "code",
   "execution_count": 24,
   "metadata": {},
   "outputs": [
    {
     "name": "stdout",
     "output_type": "stream",
     "text": [
      "Clustal Omega alignment completed successfully.\n",
      "\n"
     ]
    }
   ],
   "source": [
    "aligned_file = run_clustalO(input_file=\"homologs/comS_prot_homologs.fasta\", output_file=\"comS_protein.aln\", output_dir=\"clustal_output\")"
   ]
  },
  {
   "cell_type": "markdown",
   "metadata": {},
   "source": [
    "Função para costrução de árvores apartir do output do clustalOmega"
   ]
  },
  {
   "cell_type": "code",
   "execution_count": 39,
   "metadata": {},
   "outputs": [],
   "source": [
    "def build_trees(file_name, file_type, matrix=\"blosum62\", output_dir=\"tree_output\"):\n",
    "    \"\"\"\n",
    "    Builds phylogenetic trees (UPGMA and NJ) from a sequence alignment file.\n",
    "    \n",
    "    Args:\n",
    "        file_name (str): Path to the input alignment file.\n",
    "        file_type (str): Format of the input alignment file (e.g., \"clustal\", \"fasta\").\n",
    "        matrix (str): Scoring matrix for distance calculation (default: \"blosum62\").\n",
    "        output_dir (str): Directory to save intermediate files and outputs (default: \"tree_output\").\n",
    "    \n",
    "    Returns:\n",
    "        None: Displays the trees as ASCII diagrams in the console.\n",
    "    \"\"\"\n",
    "    # Ensure the output directory exists\n",
    "    os.makedirs(output_dir, exist_ok=True)\n",
    "\n",
    "    try:\n",
    "        # Read the alignment file\n",
    "        alignment = AlignIO.read(file_name, file_type)\n",
    "        \n",
    "\n",
    "        # Calculate pairwise distances\n",
    "        calculator = DistanceCalculator(matrix)\n",
    "        dm = calculator.get_distance(alignment)\n",
    "        \n",
    "        # Construct trees using UPGMA and NJ methods\n",
    "        constructor = DistanceTreeConstructor()\n",
    "        upgma_tree = constructor.upgma(dm)\n",
    "        nj_tree = constructor.nj(dm)\n",
    "\n",
    "        # Display trees as ASCII\n",
    "        print(\"Neighbor-Joining Tree:\")\n",
    "        Phylo.draw_ascii(nj_tree, column_width=120)\n",
    "        print(\"-\" * 50)\n",
    "        print(\"UPGMA Tree:\")\n",
    "        Phylo.draw_ascii(upgma_tree, column_width=120)\n",
    "\n",
    "    except Exception as e:\n",
    "        print(f\"An error occurred: {e}\")"
   ]
  },
  {
   "cell_type": "code",
   "execution_count": 40,
   "metadata": {},
   "outputs": [
    {
     "name": "stdout",
     "output_type": "stream",
     "text": [
      "Neighbor-Joining Tree:\n",
      "      , Bacillus_intestinalis|CP011051.1\n",
      "  ____|\n",
      " |    , Bacillus_halotolerans|CP026032.1\n",
      " |    |\n",
      " |    | Bacillus_vallismortis|CP026362.1\n",
      " |\n",
      " |           _______________________________________________________________________ Bacillus_atrophaeus|CP007640.1\n",
      " |  ________|\n",
      " | |        |__________ Bacillus_mojavensis|CP127833.1\n",
      " |,|\n",
      " |||  , Bacillus_cabrialesii|CP096889.1\n",
      " |||__|\n",
      " ||   | Bacillus_inaquosorum|CP096592.1\n",
      " ||\n",
      " ||            , Query\n",
      " ||      ______|\n",
      " ||_____|      | Bacillus_sp.|CP024921.1\n",
      " |      |\n",
      "_|      |_ Bacillus_rugosus|CP096590.1\n",
      " |\n",
      " | Bacillus_spizizenii|CP145137.1\n",
      " |\n",
      " | Bacillus_stercoris|CP124601.1\n",
      " |\n",
      " | Bacillus_tequilensis|CP048852.1\n",
      "\n",
      "--------------------------------------------------\n",
      "UPGMA Tree:\n",
      "  __________________________________________________________________ Bacillus_atrophaeus|CP007640.1\n",
      " |\n",
      " |                                            ______________________ Bacillus_mojavensis|CP127833.1\n",
      " |                                           |\n",
      "_|                                           |                                 , Bacillus_cabrialesii|CP096889.1\n",
      " |                                           |                            _____|\n",
      " |                                           |                           |     | Bacillus_inaquosorum|CP096592.1\n",
      " |                                           |                           |\n",
      " |___________________________________________|                           |          , Bacillus_intestinalis|CP011051.1\n",
      "                                             |                ___________|          |\n",
      "                                             |               |           |      ____| Bacillus_halotolerans|CP026032.1\n",
      "                                             |               |           |     |    |\n",
      "                                             |               |           |     |    | Bacillus_vallismortis|CP026362.1\n",
      "                                             |               |           |_____|\n",
      "                                             |               |                 |    , Bacillus_tequilensis|CP048852.1\n",
      "                                             |_______________|                 |    |\n",
      "                                                             |                 |____| Bacillus_stercoris|CP124601.1\n",
      "                                                             |                      |\n",
      "                                                             |                      | Bacillus_spizizenii|CP145137.1\n",
      "                                                             |\n",
      "                                                             |     ______ Bacillus_rugosus|CP096590.1\n",
      "                                                             |____|\n",
      "                                                                  |      , Bacillus_sp.|CP024921.1\n",
      "                                                                  |______|\n",
      "                                                                         | Query\n",
      "\n"
     ]
    }
   ],
   "source": [
    "build_trees(\n",
    "    file_name=\"clustal_output/comS_dna.aln\",\n",
    "    file_type=\"clustal\",\n",
    "    matrix=\"blosum62\",\n",
    "    output_dir=\"tree_output\"\n",
    ")"
   ]
  },
  {
   "cell_type": "code",
   "execution_count": 41,
   "metadata": {},
   "outputs": [
    {
     "name": "stdout",
     "output_type": "stream",
     "text": [
      "Neighbor-Joining Tree:\n",
      " , Query\n",
      " |\n",
      " |            __________________ Bacillus_vallismortis|WP_240467619.1\n",
      " |  _________|\n",
      " |_|         |_ Bacillus_spizizenii|MCR4391170.1\n",
      " | |\n",
      " | |_______ Bacillus_sp.|WP_231516564.1\n",
      " |\n",
      " |                                                                 _____________ Bacillus_halotolerans|MCP9301357.1\n",
      "_|       _________________________________________________________|\n",
      " | _____|                                                         | Bacillus_mojavensis|MCY9093305.1\n",
      " ||     |\n",
      " ||     |_____________________________________ Bacillus_tequilensis|WP_254610356.1\n",
      " ||\n",
      " ||_________________ Bacillus_inaquosorum|MCY7941655.1\n",
      " |\n",
      " |_______________________________ Bacillus_stercoris|MEN9077508.1\n",
      "\n",
      "--------------------------------------------------\n",
      "UPGMA Tree:\n",
      "                                                                      __________ Bacillus_halotolerans|MCP9301357.1\n",
      "  ___________________________________________________________________|\n",
      " |                                                                   |__________ Bacillus_mojavensis|MCY9093305.1\n",
      "_|\n",
      " |                       _______________________________________________________ Bacillus_tequilensis|WP_254610356.1\n",
      " |______________________|\n",
      "                        |              _________________________________________ Bacillus_stercoris|MEN9077508.1\n",
      "                        |_____________|\n",
      "                                      |         ________________________________ Bacillus_inaquosorum|MCY7941655.1\n",
      "                                      |________|\n",
      "                                               |            ____________________ Bacillus_vallismortis|WP_240467619.1\n",
      "                                               |___________|\n",
      "                                                           |      ______________ Bacillus_spizizenii|MCR4391170.1\n",
      "                                                           |_____|\n",
      "                                                                 |       _______ Bacillus_sp.|WP_231516564.1\n",
      "                                                                 |______|\n",
      "                                                                        |_______ Query\n",
      "\n"
     ]
    }
   ],
   "source": [
    "build_trees(\n",
    "    file_name=\"clustal_output/comS_protein.aln\",\n",
    "    file_type=\"clustal\",\n",
    "    matrix=\"blosum62\",\n",
    "    output_dir=\"tree_output\"\n",
    ")"
   ]
  }
 ],
 "metadata": {
  "kernelspec": {
   "display_name": "labs",
   "language": "python",
   "name": "python3"
  },
  "language_info": {
   "codemirror_mode": {
    "name": "ipython",
    "version": 3
   },
   "file_extension": ".py",
   "mimetype": "text/x-python",
   "name": "python",
   "nbconvert_exporter": "python",
   "pygments_lexer": "ipython3",
   "version": "3.10.15"
  }
 },
 "nbformat": 4,
 "nbformat_minor": 2
}
