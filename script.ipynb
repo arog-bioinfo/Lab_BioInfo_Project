{
 "cells": [
  {
   "cell_type": "markdown",
   "metadata": {},
   "source": [
    "Esta é uma script em jupyter para fazer pequenas funções e depois passar para a script em python."
   ]
  },
  {
   "cell_type": "code",
   "execution_count": 48,
   "metadata": {},
   "outputs": [],
   "source": [
    "#Dar import a packages\n",
    "import os\n",
    "from Bio import SeqIO, SeqFeature, Entrez\n",
    "from Bio.Seq import Seq\n",
    "from Bio.SeqRecord import SeqRecord\n",
    "from Bio.Blast import NCBIXML, NCBIWWW "
   ]
  },
  {
   "cell_type": "markdown",
   "metadata": {},
   "source": [
    "### Análise da sequência e das features presentes no NCBI"
   ]
  },
  {
   "cell_type": "markdown",
   "metadata": {},
   "source": [
    "Funtion to get gene genbank file"
   ]
  },
  {
   "cell_type": "code",
   "execution_count": 51,
   "metadata": {},
   "outputs": [],
   "source": [
    "def get_seq(gene_id, email=\"...@gmail.com\", filename=\"sequence.gb\", output_dir=\"output\"):\n",
    "    \"\"\"\n",
    "    Fetches a sequence from NCBI and saves it to a file in the specified output directory.\n",
    "    \n",
    "    Args:\n",
    "        gene_id (str): NCBI Gene ID.\n",
    "        email (str): User's email for NCBI access.\n",
    "        filename (str): File name to save the sequence.\n",
    "        output_dir (str): Directory where the file will be saved.\n",
    "    \"\"\"\n",
    "    Entrez.email = email\n",
    "    os.makedirs(output_dir, exist_ok=True)  # Create the directory if it doesn't exist\n",
    "    output_path = os.path.join(output_dir, filename)  # Full path to the output file\n",
    "\n",
    "    try:\n",
    "        print(f\"Fetching data for gene ID: {gene_id}...\")\n",
    "        handle = Entrez.efetch(db=\"nucleotide\", id=gene_id, rettype=\"gb\", retmode=\"text\")\n",
    "        record = SeqIO.read(handle, \"genbank\")\n",
    "        handle.close()\n",
    "        print(\"Saving the sequence to file...\")\n",
    "        with open(output_path, \"w\") as output_file:  # Use output_path here\n",
    "            SeqIO.write(record, output_file, \"genbank\")\n",
    "        print(f\"Sequence saved successfully to {output_path}.\")\n",
    "    except Exception as e:\n",
    "        print(f\"An error occurred: {e}\")"
   ]
  },
  {
   "cell_type": "code",
   "execution_count": 55,
   "metadata": {},
   "outputs": [
    {
     "name": "stdout",
     "output_type": "stream",
     "text": [
      "Fetching data for gene ID: U10926.1...\n",
      "Saving the sequence to file...\n",
      "Sequence saved successfully to genes_gb\\comS.gb.\n"
     ]
    }
   ],
   "source": [
    "get_seq(\"U10926.1\", filename = \"comS.gb\", output_dir=\"genes_gb\")"
   ]
  },
  {
   "cell_type": "markdown",
   "metadata": {},
   "source": [
    "Funtion de análise de features"
   ]
  },
  {
   "cell_type": "code",
   "execution_count": 62,
   "metadata": {},
   "outputs": [],
   "source": [
    "def analyse_features(filename):\n",
    "\n",
    "    record = SeqIO.read(f\"genes_gb/{filename}\", \"genbank\")\n",
    "\n",
    "    # Extracting features\n",
    "    for feature in record.features:\n",
    "        print(f\"Type: {feature.type}\")\n",
    "        print(f\"Location: {feature.location}\")\n",
    "        print(f\"Qualifiers: {feature.qualifiers}\")"
   ]
  },
  {
   "cell_type": "code",
   "execution_count": 63,
   "metadata": {},
   "outputs": [
    {
     "name": "stdout",
     "output_type": "stream",
     "text": [
      "Type: source\n",
      "Location: [0:570](+)\n",
      "Qualifiers: {'organism': ['Bacillus subtilis subsp. subtilis str. 168'], 'mol_type': ['genomic DNA'], 'strain': ['168'], 'sub_species': ['subtilis'], 'type_material': ['type strain of Bacillus subtilis'], 'db_xref': ['taxon:224308'], 'map': ['30 degrees'], 'note': ['sequence similar to srfA2 gene, GenBank Accession Number X70356, and srfAB gene, GenBank Accession Number D13262']}\n",
      "Type: regulatory\n",
      "Location: [188:189](+)\n",
      "Qualifiers: {'regulatory_class': ['ribosome_binding_site']}\n",
      "Type: gene\n",
      "Location: [210:351](+)\n",
      "Qualifiers: {'gene': ['comS']}\n",
      "Type: CDS\n",
      "Location: [210:351](+)\n",
      "Qualifiers: {'gene': ['comS'], 'function': ['regulation of genetic competence'], 'experiment': ['experimental evidence, no additional details recorded'], 'codon_start': ['1'], 'transl_table': ['11'], 'organism': ['Bacillus subtilis'], 'product': ['ComS'], 'protein_id': ['AAA61567.1'], 'translation': ['MNRSGKHLISSIILYPRPSGECISSISLDKQTQATTSPLYFCWREK']}\n"
     ]
    }
   ],
   "source": [
    "analyse_features(\"comS.gb\")"
   ]
  },
  {
   "cell_type": "markdown",
   "metadata": {},
   "source": [
    "Function to get the annotation from genbank file"
   ]
  },
  {
   "cell_type": "code",
   "execution_count": 65,
   "metadata": {},
   "outputs": [],
   "source": [
    "def extract_annotations(filename):\n",
    "    \"\"\"\n",
    "    Extracts annotations from a GenBank file.\n",
    "    \n",
    "    Args:\n",
    "        filename (str): Path to the GenBank file.\n",
    "    \"\"\"\n",
    "    try:\n",
    "        record = SeqIO.read(f\"genes_gb/{filename}\", \"genbank\")\n",
    "        print(f\"Gene Description: {record.description}\")\n",
    "        print(f\"Organism: {record.annotations.get('organism', 'Unknown')}\")\n",
    "        print(f\"Annotations: {record.annotations}\")\n",
    "    except Exception as e:\n",
    "        print(f\"An error occurred: {e}\")\n"
   ]
  },
  {
   "cell_type": "code",
   "execution_count": 66,
   "metadata": {},
   "outputs": [
    {
     "name": "stdout",
     "output_type": "stream",
     "text": [
      "Gene Description: Bacillus subtilis 168 genetic competence regulation (comS) gene, complete cds\n",
      "Organism: Bacillus subtilis subsp. subtilis str. 168\n",
      "Annotations: {'molecule_type': 'DNA', 'topology': 'linear', 'data_file_division': 'BCT', 'date': '26-JAN-1995', 'accessions': ['U10926'], 'sequence_version': 1, 'keywords': [''], 'source': 'Bacillus subtilis subsp. subtilis str. 168', 'organism': 'Bacillus subtilis subsp. subtilis str. 168', 'taxonomy': ['Bacteria', 'Bacillati', 'Bacillota', 'Bacilli', 'Bacillales', 'Bacillaceae', 'Bacillus'], 'references': [Reference(title='Identification of comS, a gene of the srfA operon that regulates the establishment of genetic competence in Bacillus subtilis', ...), Reference(title=\"Nucleotide sequence of 5' portion of srfA that contains the region required for competence establishment in Bacillus subtilus\", ...), Reference(title='Direct Submission', ...)]}\n"
     ]
    }
   ],
   "source": [
    "extract_annotations(\"comS.gb\")"
   ]
  },
  {
   "cell_type": "markdown",
   "metadata": {},
   "source": [
    "Funtion to analyse features and qualifiers"
   ]
  },
  {
   "cell_type": "code",
   "execution_count": 69,
   "metadata": {},
   "outputs": [],
   "source": [
    "def analyze_features(filename):\n",
    "    \"\"\"\n",
    "    Analyzes features and qualifiers in a GenBank file.\n",
    "    \n",
    "    Args:\n",
    "        filename (str): Path to the GenBank file.\n",
    "    \"\"\"\n",
    "    try:\n",
    "        record = SeqIO.read(f\"genes_gb/{filename}\", \"genbank\")\n",
    "        print(f\"Number of Features: {len(record.features)}\")\n",
    "        for feature in record.features:\n",
    "            print(f\"Type: {feature.type}\")\n",
    "            print(f\"Location: {feature.location}\")\n",
    "            print(f\"Qualifiers: {feature.qualifiers}\")\n",
    "            print(\"-\" * 50)\n",
    "    except Exception as e:\n",
    "        print(f\"An error occurred: {e}\")\n"
   ]
  },
  {
   "cell_type": "code",
   "execution_count": 70,
   "metadata": {},
   "outputs": [
    {
     "name": "stdout",
     "output_type": "stream",
     "text": [
      "Number of Features: 4\n",
      "Type: source\n",
      "Location: [0:570](+)\n",
      "Qualifiers: {'organism': ['Bacillus subtilis subsp. subtilis str. 168'], 'mol_type': ['genomic DNA'], 'strain': ['168'], 'sub_species': ['subtilis'], 'type_material': ['type strain of Bacillus subtilis'], 'db_xref': ['taxon:224308'], 'map': ['30 degrees'], 'note': ['sequence similar to srfA2 gene, GenBank Accession Number X70356, and srfAB gene, GenBank Accession Number D13262']}\n",
      "--------------------------------------------------\n",
      "Type: regulatory\n",
      "Location: [188:189](+)\n",
      "Qualifiers: {'regulatory_class': ['ribosome_binding_site']}\n",
      "--------------------------------------------------\n",
      "Type: gene\n",
      "Location: [210:351](+)\n",
      "Qualifiers: {'gene': ['comS']}\n",
      "--------------------------------------------------\n",
      "Type: CDS\n",
      "Location: [210:351](+)\n",
      "Qualifiers: {'gene': ['comS'], 'function': ['regulation of genetic competence'], 'experiment': ['experimental evidence, no additional details recorded'], 'codon_start': ['1'], 'transl_table': ['11'], 'organism': ['Bacillus subtilis'], 'product': ['ComS'], 'protein_id': ['AAA61567.1'], 'translation': ['MNRSGKHLISSIILYPRPSGECISSISLDKQTQATTSPLYFCWREK']}\n",
      "--------------------------------------------------\n"
     ]
    }
   ],
   "source": [
    "analyze_features(\"comS.gb\")"
   ]
  },
  {
   "cell_type": "markdown",
   "metadata": {},
   "source": [
    "Funtion to extract external references"
   ]
  },
  {
   "cell_type": "code",
   "execution_count": 71,
   "metadata": {},
   "outputs": [],
   "source": [
    "def extract_external_references(filename):\n",
    "    \"\"\"\n",
    "    Extracts external database references from a GenBank file.\n",
    "    \n",
    "    Args:\n",
    "        filename (str): Path to the GenBank file.\n",
    "    \"\"\"\n",
    "    try:\n",
    "        record = SeqIO.read(f\"genes_gb/{filename}\", \"genbank\")\n",
    "        external_refs = []\n",
    "        for feature in record.features:\n",
    "            if \"db_xref\" in feature.qualifiers:\n",
    "                external_refs.extend(feature.qualifiers[\"db_xref\"])\n",
    "        print(\"External References:\")\n",
    "        for ref in set(external_refs):\n",
    "            print(ref)\n",
    "    except Exception as e:\n",
    "        print(f\"An error occurred: {e}\")\n",
    "\n"
   ]
  },
  {
   "cell_type": "code",
   "execution_count": 72,
   "metadata": {},
   "outputs": [
    {
     "name": "stdout",
     "output_type": "stream",
     "text": [
      "External References:\n",
      "taxon:224308\n"
     ]
    }
   ],
   "source": [
    "extract_external_references(\"comS.gb\")"
   ]
  },
  {
   "cell_type": "markdown",
   "metadata": {},
   "source": [
    "### Análise de homologias por BLAST"
   ]
  },
  {
   "cell_type": "markdown",
   "metadata": {},
   "source": [
    "Função para fazer um NCBI blast apartir de um file (pode-se escolher o tipo de blast, database e outros parâmetros)"
   ]
  },
  {
   "cell_type": "code",
   "execution_count": 198,
   "metadata": {},
   "outputs": [],
   "source": [
    "def blast(file_name, file_format = \"fasta\", program = \"blastn\", database = \"nt\", e_value = 0.05, hitlist_size = 100):\n",
    "    \"\"\"\n",
    "    Realiza o BLAST de uma sequência contida em um arquivo.\n",
    "    \n",
    "    Parameters:\n",
    "        file_name (str): Nome do arquivo contendo a sequência.\n",
    "        file_format (str): Formato do arquivo (padrão: 'fasta').\n",
    "        program (str): Programa BLAST a ser usado (padrão: 'blastn').\n",
    "        database (str): Banco de dados para busca (padrão: 'nt').\n",
    "        e_value (float): Limite de valor E para busca (padrão: 0.05).\n",
    "        hitlist_size (int): Número de hits a serem retornados (padrão: 50).\n",
    "    \n",
    "    Returns:\n",
    "        Um handle com os resultados do BLAST, ou None em caso de erro.\n",
    "    \"\"\"\n",
    "    \n",
    "    try:\n",
    "        #lê o arquivo\n",
    "        record = SeqIO.read(open(f\"genes_gb/{file_name}\"), format = file_format)\n",
    "\n",
    "        #Começa o blast remoto\n",
    "        print(\"BLASTing...\")\n",
    "        result_handle = NCBIWWW.qblast(program, database, record.format(\"fasta\"), expect = e_value, hitlist_size = hitlist_size)\n",
    "\n",
    "        #returns result handle\n",
    "        print(\"BLAST concluído com sucesso.\")\n",
    "        return result_handle\n",
    "    \n",
    "    except Exception as e:\n",
    "        print(f\"Erro ao executar o BLAST: {e}\")\n",
    "        return None"
   ]
  },
  {
   "cell_type": "markdown",
   "metadata": {},
   "source": [
    "Função que utiliza função blast, mas guardar o output num file."
   ]
  },
  {
   "cell_type": "code",
   "execution_count": 203,
   "metadata": {},
   "outputs": [],
   "source": [
    "def get_blast(file_name, output_name = \"blast_result\", file_format = \"gb\", program = \"blastn\", database = \"nt\", e_value = 0.01, hitlist_size = 100):\n",
    "    \"\"\"\n",
    "    Realiza o BLAST usando a função `blast` e salva os resultados em um arquivo.\n",
    "    \n",
    "    Parameters:\n",
    "        file_name (str): Nome do arquivo contendo a sequência.\n",
    "        output_name (str): Nome do arquivo para salvar os resultados.\n",
    "        Outros parâmetros são os mesmos da função `blast`.\n",
    "    \"\"\"\n",
    "\n",
    "    result_handle = blast(file_name, file_format, program, database, e_value, hitlist_size)\n",
    "\n",
    "    if result_handle is not None:\n",
    "        try:\n",
    "            # Salva os resultados em um arquivo XML\n",
    "            with open(f\"{output_name}.xml\", \"w\") as save_file:\n",
    "                save_file.write(result_handle.read())\n",
    "                print(f\"Resultados salvos em {output_name}.xml.\")\n",
    "\n",
    "        except Exception as e:\n",
    "            print(f\"Erro ao salvar os resultados: {e}\")\n",
    "\n",
    "        finally:\n",
    "            result_handle.close()\n",
    "    "
   ]
  },
  {
   "cell_type": "markdown",
   "metadata": {},
   "source": [
    "Teste da função *get_blast* e *blast*"
   ]
  },
  {
   "cell_type": "code",
   "execution_count": 204,
   "metadata": {},
   "outputs": [
    {
     "name": "stdout",
     "output_type": "stream",
     "text": [
      "BLASTing...\n",
      "BLAST concluído com sucesso.\n",
      "Resultados salvos em comS.xml.\n"
     ]
    }
   ],
   "source": [
    "get_blast(\"comS.gb\", output_name =\"comS\", hitlist_size=10000)"
   ]
  },
  {
   "cell_type": "markdown",
   "metadata": {},
   "source": [
    "Function to parse a blast result"
   ]
  },
  {
   "cell_type": "code",
   "execution_count": 211,
   "metadata": {},
   "outputs": [],
   "source": [
    "def parse_blast_results(file_name, exclude=None, e_value_thresh=0.05, identity_thresh=90):\n",
    "    \"\"\"\n",
    "    Parses BLAST results and extracts significant hits, excluding specific species or TaxIDs.\n",
    "    \n",
    "    Args:\n",
    "        file_name (str): Path to the BLAST result file in XML format.\n",
    "        exclude_taxid (int or None): TaxID of the species to exclude.\n",
    "        exclude_species (str or None): Species name to exclude (e.g., \"Bacillus subtilis\").\n",
    "        e_value_thresh (float): Threshold for E-value significance.\n",
    "        identity_thresh (float): Minimum percentage identity for significant hits.\n",
    "    \n",
    "    Returns:\n",
    "        list: A list of dictionaries containing significant hit information.\n",
    "    \"\"\"\n",
    "    from Bio.Blast import NCBIXML\n",
    "\n",
    "    with open(file_name) as result_handle:\n",
    "        blast_record = NCBIXML.read(result_handle)\n",
    "    \n",
    "    significant_hits = []\n",
    "    for alignment in blast_record.alignments:\n",
    "        EXC = False\n",
    "        if exclude:\n",
    "            for _ in exclude:\n",
    "                if _.lower() in alignment.title.lower():\n",
    "                    EXC = True\n",
    "                    break  # Exit the loop once a match is found\n",
    "        \n",
    "        if not EXC:\n",
    "            for hsp in alignment.hsps:\n",
    "                if hsp.expect < e_value_thresh and (hsp.identities / hsp.align_length) * 100 > identity_thresh:\n",
    "                    hit_info = {\n",
    "                        \"title\": alignment.title,\n",
    "                        \"length\": alignment.length,\n",
    "                        \"e_value\": hsp.expect,\n",
    "                        \"identity\": (hsp.identities / hsp.align_length) * 100,\n",
    "                        \"alignment_length\": hsp.align_length\n",
    "                    }\n",
    "                    significant_hits.append(hit_info)\n",
    "                    \n",
    "    \n",
    "    return significant_hits"
   ]
  },
  {
   "cell_type": "code",
   "execution_count": 216,
   "metadata": {},
   "outputs": [
    {
     "data": {
      "text/plain": [
       "[{'title': 'gi|1257575185|dbj|LC171348.1| Bacillus sp. FW1 genes for pyrene metabolism, contig_7',\n",
       "  'length': 455392,\n",
       "  'e_value': 0.0,\n",
       "  'identity': 95.08771929824562,\n",
       "  'alignment_length': 570},\n",
       " {'title': 'gi|1757450143|gb|MK570508.1| Bacillus amyloliquefaciens strain TSBSO3.8 surfactin gene region',\n",
       "  'length': 65411,\n",
       "  'e_value': 4.41789e-127,\n",
       "  'identity': 78.34507042253522,\n",
       "  'alignment_length': 568},\n",
       " {'title': 'gi|1757450197|gb|MK570509.1| Bacillus amyloliquefaciens strain H2O-1 surfactin gene region',\n",
       "  'length': 65415,\n",
       "  'e_value': 4.41789e-127,\n",
       "  'identity': 78.34507042253522,\n",
       "  'alignment_length': 568},\n",
       " {'title': 'gi|42820782|emb|AJ575642.1| Bacillus amyloliquefaciens yciC gene, yx01 gene, yckc gene, yckD gene, yckE gene, nin gene, nuc gene, hxlB gene, hxlA gene, hxlR gene, xy02 gene, srfAA gene, srfAB gene, comS gene, srfAC gene, srfAD gene, aat gene, ycxc gene, ycxD gene, sfp gene, yczE gene, yckI gene and yckJ gene',\n",
       "  'length': 41884,\n",
       "  'e_value': 4.41789e-127,\n",
       "  'identity': 78.34507042253522,\n",
       "  'alignment_length': 568},\n",
       " {'title': 'gi|2784321086|gb|CP165606.1| Bacillus velezensis strain BP1 plasmid unnamed',\n",
       "  'length': 4056860,\n",
       "  'e_value': 5.3821e-126,\n",
       "  'identity': 78.16901408450704,\n",
       "  'alignment_length': 568},\n",
       " {'title': 'gi|3046719|emb|AJ005061.1| Bacillus licheniformis BNP29 DNA for lichenysin A synthetase operon',\n",
       "  'length': 32386,\n",
       "  'e_value': 2.15099e-42,\n",
       "  'identity': 68.25396825396825,\n",
       "  'alignment_length': 567},\n",
       " {'title': 'gi|2866171280|ref|XM_070206441.1| Colletotrichum truncatum AMP-binding enzyme (CTRU02_215356), partial mRNA',\n",
       "  'length': 30924,\n",
       "  'e_value': 0.00916243,\n",
       "  'identity': 80.0,\n",
       "  'alignment_length': 60}]"
      ]
     },
     "execution_count": 216,
     "metadata": {},
     "output_type": "execute_result"
    }
   ],
   "source": [
    "parse_blast_results(\"comS.xml\", exclude=[\"subtilis\",\"chromosome\",\"complete\", \"genome\"], e_value_thresh=0.05, identity_thresh=50)"
   ]
  }
 ],
 "metadata": {
  "kernelspec": {
   "display_name": "labs",
   "language": "python",
   "name": "python3"
  },
  "language_info": {
   "codemirror_mode": {
    "name": "ipython",
    "version": 3
   },
   "file_extension": ".py",
   "mimetype": "text/x-python",
   "name": "python",
   "nbconvert_exporter": "python",
   "pygments_lexer": "ipython3",
   "version": "3.10.15"
  }
 },
 "nbformat": 4,
 "nbformat_minor": 2
}
